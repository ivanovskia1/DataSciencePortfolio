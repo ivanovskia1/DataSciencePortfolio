{
 "cells": [
  {
   "cell_type": "markdown",
   "metadata": {},
   "source": [
    "# Objective\n",
    "When hotels want to increase the value of their room, they offer room amenities that matter most to travelers. In fact, Per PwC’s Consumer Intelligence Series Report on hotel brand loyalty, “Both business and leisure travelers say room quality is the #1 reason for choosing a hotel.” Hotels have learned the art of  maximizing the values of their rooms, however how could AirBnB hosts that do too? \n",
    "\n",
    "My goal is to help hosts maximize the value of their AirBnb rental. I will do that by building a model that predicts how much revenue an Airbnb rental will earn in a month, and seeing which features contribute most to those earnings."
   ]
  },
  {
   "cell_type": "code",
   "execution_count": 114,
   "metadata": {
    "collapsed": true
   },
   "outputs": [],
   "source": [
    "## Read Data\n",
    "import csv\n",
    "import pandas as pd\n",
    "import re\n",
    "df = pd.read_csv(\"New York.csv\")"
   ]
  },
  {
   "cell_type": "code",
   "execution_count": 115,
   "metadata": {},
   "outputs": [
    {
     "data": {
      "text/html": [
       "<div>\n",
       "<style>\n",
       "    .dataframe thead tr:only-child th {\n",
       "        text-align: right;\n",
       "    }\n",
       "\n",
       "    .dataframe thead th {\n",
       "        text-align: left;\n",
       "    }\n",
       "\n",
       "    .dataframe tbody tr th {\n",
       "        vertical-align: top;\n",
       "    }\n",
       "</style>\n",
       "<table border=\"1\" class=\"dataframe\">\n",
       "  <thead>\n",
       "    <tr style=\"text-align: right;\">\n",
       "      <th></th>\n",
       "      <th>id</th>\n",
       "      <th>host_response_time</th>\n",
       "      <th>host_response_rate</th>\n",
       "      <th>host_is_superhost</th>\n",
       "      <th>host_has_profile_pic</th>\n",
       "      <th>neighbourhood_cleansed</th>\n",
       "      <th>latitude</th>\n",
       "      <th>longitude</th>\n",
       "      <th>is_location_exact</th>\n",
       "      <th>property_type</th>\n",
       "      <th>...</th>\n",
       "      <th>review_scores_cleanliness</th>\n",
       "      <th>review_scores_checkin</th>\n",
       "      <th>review_scores_communication</th>\n",
       "      <th>review_scores_location</th>\n",
       "      <th>review_scores_value</th>\n",
       "      <th>instant_bookable</th>\n",
       "      <th>is_business_travel_ready</th>\n",
       "      <th>cancellation_policy</th>\n",
       "      <th>require_guest_profile_picture</th>\n",
       "      <th>reviews_per_month</th>\n",
       "    </tr>\n",
       "  </thead>\n",
       "  <tbody>\n",
       "    <tr>\n",
       "      <th>0</th>\n",
       "      <td>18461891</td>\n",
       "      <td>NaN</td>\n",
       "      <td>NaN</td>\n",
       "      <td>f</td>\n",
       "      <td>t</td>\n",
       "      <td>Ditmars Steinway</td>\n",
       "      <td>40.774142</td>\n",
       "      <td>-73.916246</td>\n",
       "      <td>t</td>\n",
       "      <td>Apartment</td>\n",
       "      <td>...</td>\n",
       "      <td>NaN</td>\n",
       "      <td>NaN</td>\n",
       "      <td>NaN</td>\n",
       "      <td>NaN</td>\n",
       "      <td>NaN</td>\n",
       "      <td>f</td>\n",
       "      <td>f</td>\n",
       "      <td>strict</td>\n",
       "      <td>f</td>\n",
       "      <td>NaN</td>\n",
       "    </tr>\n",
       "    <tr>\n",
       "      <th>1</th>\n",
       "      <td>20702398</td>\n",
       "      <td>within an hour</td>\n",
       "      <td>100%</td>\n",
       "      <td>f</td>\n",
       "      <td>t</td>\n",
       "      <td>City Island</td>\n",
       "      <td>40.849191</td>\n",
       "      <td>-73.786509</td>\n",
       "      <td>f</td>\n",
       "      <td>House</td>\n",
       "      <td>...</td>\n",
       "      <td>10.0</td>\n",
       "      <td>10.0</td>\n",
       "      <td>10.0</td>\n",
       "      <td>10.0</td>\n",
       "      <td>10.0</td>\n",
       "      <td>f</td>\n",
       "      <td>f</td>\n",
       "      <td>moderate</td>\n",
       "      <td>f</td>\n",
       "      <td>2.00</td>\n",
       "    </tr>\n",
       "    <tr>\n",
       "      <th>2</th>\n",
       "      <td>6627449</td>\n",
       "      <td>within an hour</td>\n",
       "      <td>100%</td>\n",
       "      <td>f</td>\n",
       "      <td>t</td>\n",
       "      <td>City Island</td>\n",
       "      <td>40.849775</td>\n",
       "      <td>-73.786609</td>\n",
       "      <td>t</td>\n",
       "      <td>Apartment</td>\n",
       "      <td>...</td>\n",
       "      <td>10.0</td>\n",
       "      <td>10.0</td>\n",
       "      <td>10.0</td>\n",
       "      <td>10.0</td>\n",
       "      <td>10.0</td>\n",
       "      <td>f</td>\n",
       "      <td>f</td>\n",
       "      <td>strict</td>\n",
       "      <td>f</td>\n",
       "      <td>0.77</td>\n",
       "    </tr>\n",
       "    <tr>\n",
       "      <th>3</th>\n",
       "      <td>19949243</td>\n",
       "      <td>within a few hours</td>\n",
       "      <td>100%</td>\n",
       "      <td>f</td>\n",
       "      <td>t</td>\n",
       "      <td>City Island</td>\n",
       "      <td>40.848838</td>\n",
       "      <td>-73.782276</td>\n",
       "      <td>f</td>\n",
       "      <td>Boat</td>\n",
       "      <td>...</td>\n",
       "      <td>NaN</td>\n",
       "      <td>NaN</td>\n",
       "      <td>NaN</td>\n",
       "      <td>NaN</td>\n",
       "      <td>NaN</td>\n",
       "      <td>t</td>\n",
       "      <td>f</td>\n",
       "      <td>strict</td>\n",
       "      <td>f</td>\n",
       "      <td>NaN</td>\n",
       "    </tr>\n",
       "    <tr>\n",
       "      <th>4</th>\n",
       "      <td>1886820</td>\n",
       "      <td>NaN</td>\n",
       "      <td>NaN</td>\n",
       "      <td>f</td>\n",
       "      <td>t</td>\n",
       "      <td>City Island</td>\n",
       "      <td>40.841144</td>\n",
       "      <td>-73.783052</td>\n",
       "      <td>t</td>\n",
       "      <td>House</td>\n",
       "      <td>...</td>\n",
       "      <td>NaN</td>\n",
       "      <td>NaN</td>\n",
       "      <td>NaN</td>\n",
       "      <td>NaN</td>\n",
       "      <td>NaN</td>\n",
       "      <td>f</td>\n",
       "      <td>f</td>\n",
       "      <td>strict</td>\n",
       "      <td>f</td>\n",
       "      <td>NaN</td>\n",
       "    </tr>\n",
       "  </tbody>\n",
       "</table>\n",
       "<p>5 rows × 41 columns</p>\n",
       "</div>"
      ],
      "text/plain": [
       "         id  host_response_time host_response_rate host_is_superhost  \\\n",
       "0  18461891                 NaN                NaN                 f   \n",
       "1  20702398      within an hour               100%                 f   \n",
       "2   6627449      within an hour               100%                 f   \n",
       "3  19949243  within a few hours               100%                 f   \n",
       "4   1886820                 NaN                NaN                 f   \n",
       "\n",
       "  host_has_profile_pic neighbourhood_cleansed   latitude  longitude  \\\n",
       "0                    t       Ditmars Steinway  40.774142 -73.916246   \n",
       "1                    t            City Island  40.849191 -73.786509   \n",
       "2                    t            City Island  40.849775 -73.786609   \n",
       "3                    t            City Island  40.848838 -73.782276   \n",
       "4                    t            City Island  40.841144 -73.783052   \n",
       "\n",
       "  is_location_exact property_type        ...        review_scores_cleanliness  \\\n",
       "0                 t     Apartment        ...                              NaN   \n",
       "1                 f         House        ...                             10.0   \n",
       "2                 t     Apartment        ...                             10.0   \n",
       "3                 f          Boat        ...                              NaN   \n",
       "4                 t         House        ...                              NaN   \n",
       "\n",
       "   review_scores_checkin  review_scores_communication  review_scores_location  \\\n",
       "0                    NaN                          NaN                     NaN   \n",
       "1                   10.0                         10.0                    10.0   \n",
       "2                   10.0                         10.0                    10.0   \n",
       "3                    NaN                          NaN                     NaN   \n",
       "4                    NaN                          NaN                     NaN   \n",
       "\n",
       "   review_scores_value instant_bookable is_business_travel_ready  \\\n",
       "0                  NaN                f                        f   \n",
       "1                 10.0                f                        f   \n",
       "2                 10.0                f                        f   \n",
       "3                  NaN                t                        f   \n",
       "4                  NaN                f                        f   \n",
       "\n",
       "   cancellation_policy  require_guest_profile_picture reviews_per_month  \n",
       "0               strict                              f               NaN  \n",
       "1             moderate                              f              2.00  \n",
       "2               strict                              f              0.77  \n",
       "3               strict                              f               NaN  \n",
       "4               strict                              f               NaN  \n",
       "\n",
       "[5 rows x 41 columns]"
      ]
     },
     "execution_count": 115,
     "metadata": {},
     "output_type": "execute_result"
    }
   ],
   "source": [
    "df.head()"
   ]
  },
  {
   "cell_type": "code",
   "execution_count": 116,
   "metadata": {},
   "outputs": [
    {
     "data": {
      "text/html": [
       "<div>\n",
       "<style>\n",
       "    .dataframe thead tr:only-child th {\n",
       "        text-align: right;\n",
       "    }\n",
       "\n",
       "    .dataframe thead th {\n",
       "        text-align: left;\n",
       "    }\n",
       "\n",
       "    .dataframe tbody tr th {\n",
       "        vertical-align: top;\n",
       "    }\n",
       "</style>\n",
       "<table border=\"1\" class=\"dataframe\">\n",
       "  <thead>\n",
       "    <tr style=\"text-align: right;\">\n",
       "      <th></th>\n",
       "      <th>id</th>\n",
       "      <th>latitude</th>\n",
       "      <th>longitude</th>\n",
       "      <th>accommodates</th>\n",
       "      <th>bathrooms</th>\n",
       "      <th>bedrooms</th>\n",
       "      <th>beds</th>\n",
       "      <th>square_feet</th>\n",
       "      <th>price</th>\n",
       "      <th>guests_included</th>\n",
       "      <th>...</th>\n",
       "      <th>availability_30</th>\n",
       "      <th>number_of_reviews</th>\n",
       "      <th>review_scores_rating</th>\n",
       "      <th>review_scores_accuracy</th>\n",
       "      <th>review_scores_cleanliness</th>\n",
       "      <th>review_scores_checkin</th>\n",
       "      <th>review_scores_communication</th>\n",
       "      <th>review_scores_location</th>\n",
       "      <th>review_scores_value</th>\n",
       "      <th>reviews_per_month</th>\n",
       "    </tr>\n",
       "  </thead>\n",
       "  <tbody>\n",
       "    <tr>\n",
       "      <th>count</th>\n",
       "      <td>4.431700e+04</td>\n",
       "      <td>44317.000000</td>\n",
       "      <td>44317.000000</td>\n",
       "      <td>44317.000000</td>\n",
       "      <td>44173.000000</td>\n",
       "      <td>44244.000000</td>\n",
       "      <td>44226.000000</td>\n",
       "      <td>549.000000</td>\n",
       "      <td>44317.000000</td>\n",
       "      <td>44317.000000</td>\n",
       "      <td>...</td>\n",
       "      <td>44317.000000</td>\n",
       "      <td>44317.000000</td>\n",
       "      <td>34218.000000</td>\n",
       "      <td>34140.000000</td>\n",
       "      <td>34171.000000</td>\n",
       "      <td>34044.000000</td>\n",
       "      <td>34143.000000</td>\n",
       "      <td>34025.000000</td>\n",
       "      <td>34021.00000</td>\n",
       "      <td>34843.000000</td>\n",
       "    </tr>\n",
       "    <tr>\n",
       "      <th>mean</th>\n",
       "      <td>1.149792e+07</td>\n",
       "      <td>40.730049</td>\n",
       "      <td>-73.954700</td>\n",
       "      <td>2.813255</td>\n",
       "      <td>1.132739</td>\n",
       "      <td>1.158892</td>\n",
       "      <td>1.555895</td>\n",
       "      <td>727.732240</td>\n",
       "      <td>147.675948</td>\n",
       "      <td>1.482388</td>\n",
       "      <td>...</td>\n",
       "      <td>5.904484</td>\n",
       "      <td>18.145836</td>\n",
       "      <td>93.487492</td>\n",
       "      <td>9.569156</td>\n",
       "      <td>9.236721</td>\n",
       "      <td>9.726971</td>\n",
       "      <td>9.748733</td>\n",
       "      <td>9.446936</td>\n",
       "      <td>9.38053</td>\n",
       "      <td>1.446368</td>\n",
       "    </tr>\n",
       "    <tr>\n",
       "      <th>std</th>\n",
       "      <td>6.494719e+06</td>\n",
       "      <td>0.053905</td>\n",
       "      <td>0.042382</td>\n",
       "      <td>1.853114</td>\n",
       "      <td>0.412206</td>\n",
       "      <td>0.721120</td>\n",
       "      <td>1.071849</td>\n",
       "      <td>633.253518</td>\n",
       "      <td>209.138888</td>\n",
       "      <td>1.090597</td>\n",
       "      <td>...</td>\n",
       "      <td>9.099126</td>\n",
       "      <td>33.066623</td>\n",
       "      <td>8.209607</td>\n",
       "      <td>0.817257</td>\n",
       "      <td>1.076149</td>\n",
       "      <td>0.689432</td>\n",
       "      <td>0.670241</td>\n",
       "      <td>0.805804</td>\n",
       "      <td>0.86134</td>\n",
       "      <td>1.638707</td>\n",
       "    </tr>\n",
       "    <tr>\n",
       "      <th>min</th>\n",
       "      <td>2.515000e+03</td>\n",
       "      <td>40.499794</td>\n",
       "      <td>-74.253269</td>\n",
       "      <td>1.000000</td>\n",
       "      <td>0.000000</td>\n",
       "      <td>0.000000</td>\n",
       "      <td>0.000000</td>\n",
       "      <td>0.000000</td>\n",
       "      <td>0.000000</td>\n",
       "      <td>1.000000</td>\n",
       "      <td>...</td>\n",
       "      <td>0.000000</td>\n",
       "      <td>0.000000</td>\n",
       "      <td>20.000000</td>\n",
       "      <td>2.000000</td>\n",
       "      <td>2.000000</td>\n",
       "      <td>2.000000</td>\n",
       "      <td>2.000000</td>\n",
       "      <td>2.000000</td>\n",
       "      <td>2.00000</td>\n",
       "      <td>0.010000</td>\n",
       "    </tr>\n",
       "    <tr>\n",
       "      <th>25%</th>\n",
       "      <td>6.029332e+06</td>\n",
       "      <td>40.691219</td>\n",
       "      <td>-73.983490</td>\n",
       "      <td>2.000000</td>\n",
       "      <td>1.000000</td>\n",
       "      <td>1.000000</td>\n",
       "      <td>1.000000</td>\n",
       "      <td>325.000000</td>\n",
       "      <td>70.000000</td>\n",
       "      <td>1.000000</td>\n",
       "      <td>...</td>\n",
       "      <td>0.000000</td>\n",
       "      <td>1.000000</td>\n",
       "      <td>90.000000</td>\n",
       "      <td>9.000000</td>\n",
       "      <td>9.000000</td>\n",
       "      <td>10.000000</td>\n",
       "      <td>10.000000</td>\n",
       "      <td>9.000000</td>\n",
       "      <td>9.00000</td>\n",
       "      <td>0.270000</td>\n",
       "    </tr>\n",
       "    <tr>\n",
       "      <th>50%</th>\n",
       "      <td>1.226806e+07</td>\n",
       "      <td>40.723624</td>\n",
       "      <td>-73.956728</td>\n",
       "      <td>2.000000</td>\n",
       "      <td>1.000000</td>\n",
       "      <td>1.000000</td>\n",
       "      <td>1.000000</td>\n",
       "      <td>700.000000</td>\n",
       "      <td>105.000000</td>\n",
       "      <td>1.000000</td>\n",
       "      <td>...</td>\n",
       "      <td>0.000000</td>\n",
       "      <td>5.000000</td>\n",
       "      <td>96.000000</td>\n",
       "      <td>10.000000</td>\n",
       "      <td>10.000000</td>\n",
       "      <td>10.000000</td>\n",
       "      <td>10.000000</td>\n",
       "      <td>10.000000</td>\n",
       "      <td>10.00000</td>\n",
       "      <td>0.870000</td>\n",
       "    </tr>\n",
       "    <tr>\n",
       "      <th>75%</th>\n",
       "      <td>1.736896e+07</td>\n",
       "      <td>40.764029</td>\n",
       "      <td>-73.939366</td>\n",
       "      <td>4.000000</td>\n",
       "      <td>1.000000</td>\n",
       "      <td>1.000000</td>\n",
       "      <td>2.000000</td>\n",
       "      <td>925.000000</td>\n",
       "      <td>175.000000</td>\n",
       "      <td>2.000000</td>\n",
       "      <td>...</td>\n",
       "      <td>9.000000</td>\n",
       "      <td>20.000000</td>\n",
       "      <td>100.000000</td>\n",
       "      <td>10.000000</td>\n",
       "      <td>10.000000</td>\n",
       "      <td>10.000000</td>\n",
       "      <td>10.000000</td>\n",
       "      <td>10.000000</td>\n",
       "      <td>10.00000</td>\n",
       "      <td>2.100000</td>\n",
       "    </tr>\n",
       "    <tr>\n",
       "      <th>max</th>\n",
       "      <td>2.117803e+07</td>\n",
       "      <td>40.909174</td>\n",
       "      <td>-73.710126</td>\n",
       "      <td>16.000000</td>\n",
       "      <td>15.500000</td>\n",
       "      <td>14.000000</td>\n",
       "      <td>40.000000</td>\n",
       "      <td>5000.000000</td>\n",
       "      <td>10000.000000</td>\n",
       "      <td>16.000000</td>\n",
       "      <td>...</td>\n",
       "      <td>30.000000</td>\n",
       "      <td>489.000000</td>\n",
       "      <td>100.000000</td>\n",
       "      <td>10.000000</td>\n",
       "      <td>10.000000</td>\n",
       "      <td>10.000000</td>\n",
       "      <td>10.000000</td>\n",
       "      <td>10.000000</td>\n",
       "      <td>10.00000</td>\n",
       "      <td>24.530000</td>\n",
       "    </tr>\n",
       "  </tbody>\n",
       "</table>\n",
       "<p>8 rows × 22 columns</p>\n",
       "</div>"
      ],
      "text/plain": [
       "                 id      latitude     longitude  accommodates     bathrooms  \\\n",
       "count  4.431700e+04  44317.000000  44317.000000  44317.000000  44173.000000   \n",
       "mean   1.149792e+07     40.730049    -73.954700      2.813255      1.132739   \n",
       "std    6.494719e+06      0.053905      0.042382      1.853114      0.412206   \n",
       "min    2.515000e+03     40.499794    -74.253269      1.000000      0.000000   \n",
       "25%    6.029332e+06     40.691219    -73.983490      2.000000      1.000000   \n",
       "50%    1.226806e+07     40.723624    -73.956728      2.000000      1.000000   \n",
       "75%    1.736896e+07     40.764029    -73.939366      4.000000      1.000000   \n",
       "max    2.117803e+07     40.909174    -73.710126     16.000000     15.500000   \n",
       "\n",
       "           bedrooms          beds  square_feet         price  guests_included  \\\n",
       "count  44244.000000  44226.000000   549.000000  44317.000000     44317.000000   \n",
       "mean       1.158892      1.555895   727.732240    147.675948         1.482388   \n",
       "std        0.721120      1.071849   633.253518    209.138888         1.090597   \n",
       "min        0.000000      0.000000     0.000000      0.000000         1.000000   \n",
       "25%        1.000000      1.000000   325.000000     70.000000         1.000000   \n",
       "50%        1.000000      1.000000   700.000000    105.000000         1.000000   \n",
       "75%        1.000000      2.000000   925.000000    175.000000         2.000000   \n",
       "max       14.000000     40.000000  5000.000000  10000.000000        16.000000   \n",
       "\n",
       "             ...          availability_30  number_of_reviews  \\\n",
       "count        ...             44317.000000       44317.000000   \n",
       "mean         ...                 5.904484          18.145836   \n",
       "std          ...                 9.099126          33.066623   \n",
       "min          ...                 0.000000           0.000000   \n",
       "25%          ...                 0.000000           1.000000   \n",
       "50%          ...                 0.000000           5.000000   \n",
       "75%          ...                 9.000000          20.000000   \n",
       "max          ...                30.000000         489.000000   \n",
       "\n",
       "       review_scores_rating  review_scores_accuracy  \\\n",
       "count          34218.000000            34140.000000   \n",
       "mean              93.487492                9.569156   \n",
       "std                8.209607                0.817257   \n",
       "min               20.000000                2.000000   \n",
       "25%               90.000000                9.000000   \n",
       "50%               96.000000               10.000000   \n",
       "75%              100.000000               10.000000   \n",
       "max              100.000000               10.000000   \n",
       "\n",
       "       review_scores_cleanliness  review_scores_checkin  \\\n",
       "count               34171.000000           34044.000000   \n",
       "mean                    9.236721               9.726971   \n",
       "std                     1.076149               0.689432   \n",
       "min                     2.000000               2.000000   \n",
       "25%                     9.000000              10.000000   \n",
       "50%                    10.000000              10.000000   \n",
       "75%                    10.000000              10.000000   \n",
       "max                    10.000000              10.000000   \n",
       "\n",
       "       review_scores_communication  review_scores_location  \\\n",
       "count                 34143.000000            34025.000000   \n",
       "mean                      9.748733                9.446936   \n",
       "std                       0.670241                0.805804   \n",
       "min                       2.000000                2.000000   \n",
       "25%                      10.000000                9.000000   \n",
       "50%                      10.000000               10.000000   \n",
       "75%                      10.000000               10.000000   \n",
       "max                      10.000000               10.000000   \n",
       "\n",
       "       review_scores_value  reviews_per_month  \n",
       "count          34021.00000       34843.000000  \n",
       "mean               9.38053           1.446368  \n",
       "std                0.86134           1.638707  \n",
       "min                2.00000           0.010000  \n",
       "25%                9.00000           0.270000  \n",
       "50%               10.00000           0.870000  \n",
       "75%               10.00000           2.100000  \n",
       "max               10.00000          24.530000  \n",
       "\n",
       "[8 rows x 22 columns]"
      ]
     },
     "execution_count": 116,
     "metadata": {},
     "output_type": "execute_result"
    }
   ],
   "source": [
    "df.describe()"
   ]
  },
  {
   "cell_type": "markdown",
   "metadata": {},
   "source": [
    "## Create Monthly Revenue: Price Multiplied by Number of Days Occupied \n",
    "Revenue per available room (RevPAR) is a performance metric used in the hotel industry. It is calculated by multiplying a hotel's average daily room rate (ADR) by its occupancy rate. \n",
    "\n",
    "To calculate occupancy rate: The column in our dataset is called availability_30 and it stands for how many days the room is available in the next 30 days. So if a room is available 14 days, that means the room is occupied for 16 days (30-14). "
   ]
  },
  {
   "cell_type": "code",
   "execution_count": 117,
   "metadata": {
    "collapsed": true
   },
   "outputs": [],
   "source": [
    "df[\"RevPAR\"] = (df['price'] * (30 - df['availability_30']))\n",
    "\n",
    "\n"
   ]
  },
  {
   "cell_type": "markdown",
   "metadata": {},
   "source": [
    "## Amenities\n",
    "There is a column called amenities, which I care about in this project. As you can see below, they are all in one column and it looks pretty messy so I need to clean it."
   ]
  },
  {
   "cell_type": "code",
   "execution_count": 118,
   "metadata": {},
   "outputs": [
    {
     "data": {
      "text/plain": [
       "'{TV,\"Wireless Internet\",\"Air conditioning\",Kitchen,\"Smoke detector\",\"Carbon monoxide detector\",\"First aid kit\",\"Safety card\",Essentials,\"Hair dryer\",\"translation missing: en.hosting_amenity_49\",\"translation missing: en.hosting_amenity_50\"}'"
      ]
     },
     "execution_count": 118,
     "metadata": {},
     "output_type": "execute_result"
    }
   ],
   "source": [
    "df['amenities'][0]"
   ]
  },
  {
   "cell_type": "markdown",
   "metadata": {},
   "source": [
    "## Remove all non-letter characters from amenities column\n"
   ]
  },
  {
   "cell_type": "code",
   "execution_count": 119,
   "metadata": {},
   "outputs": [
    {
     "name": "stdout",
     "output_type": "stream",
     "text": [
      " TV Wireless Internet Air conditioning Kitchen Smoke detector Carbon monoxide detector First aid kit Safety card Essentials Hair dryer translation missing en hosting_amenity_49 translation missing en hosting_amenity_50 \n"
     ]
    }
   ],
   "source": [
    "sc_sub = re.compile('\\W+')\n",
    "df['amenities'] = [sc_sub.sub(' ', amenity) for amenity in df['amenities']]\n",
    "print(df['amenities'][0])"
   ]
  },
  {
   "cell_type": "markdown",
   "metadata": {},
   "source": [
    "## Transform each amenity into a binary feature "
   ]
  },
  {
   "cell_type": "code",
   "execution_count": 120,
   "metadata": {
    "collapsed": true
   },
   "outputs": [],
   "source": [
    "amenities2 = ['Wireless Internet', 'Air conditioning', 'Pool', 'Kitchen',\n",
    "       'Free parking on premises', 'Gym', 'Hot tub', 'Indoor fireplace',\n",
    "       'Heating', 'Family kid friendly', 'Suitable for events', 'Washer',\n",
    "       'Dryer', 'Essentials', 'Shampoo', 'Lock on bedroom door', 'Cable TV',\n",
    "       '24 hour check in', 'Laptop friendly workspace', 'Hair dryer']\n",
    "for amenity in amenities2:\n",
    "    df[amenity] = df.amenities.str.contains(amenity)"
   ]
  },
  {
   "cell_type": "markdown",
   "metadata": {},
   "source": [
    "## What is the relationship between price and occupancy rate?\n"
   ]
  },
  {
   "cell_type": "code",
   "execution_count": 121,
   "metadata": {},
   "outputs": [
    {
     "data": {
      "image/png": "[encoded data removed]",
      "text/plain": [
       "<matplotlib.figure.Figure at 0x1fba59e2978>"
      ]
     },
     "metadata": {},
     "output_type": "display_data"
    }
   ],
   "source": [
    "import matplotlib.pyplot as plt\n",
    "import seaborn as sns\n",
    "sns.set(style=\"ticks\")\n",
    "\n",
    "# Show the results of a linear regression within each dataset\n",
    "sns.lmplot(x=\"availability_30\", y=\"price\", data=df)\n",
    "plt.show()\n"
   ]
  },
  {
   "cell_type": "markdown",
   "metadata": {},
   "source": [
    "There is no relationship between price and occupancy rate. There are rooms that are cheap and always occupied, and there are rooms that are cheap and never occupied. This means that customers are not booking strictly based on price, which means hosts have to differentiate themselves in other ways.\n"
   ]
  },
  {
   "cell_type": "markdown",
   "metadata": {},
   "source": [
    "## Relationship between RevPAR and Occupancy Rate"
   ]
  },
  {
   "cell_type": "code",
   "execution_count": 122,
   "metadata": {},
   "outputs": [
    {
     "data": {
      "image/png": "[encoded data removed]",
      "text/plain": [
       "<matplotlib.figure.Figure at 0x1fba0de45c0>"
      ]
     },
     "metadata": {},
     "output_type": "display_data"
    }
   ],
   "source": [
    "# Show the results of a linear regression within each dataset\n",
    "sns.lmplot(x=\"availability_30\", y=\"RevPAR\", data=df)\n",
    "plt.show()"
   ]
  },
  {
   "cell_type": "markdown",
   "metadata": {},
   "source": [
    "RevPAR decreases as availability increases, however I notice that there are potential outliers, so I will test that out."
   ]
  },
  {
   "cell_type": "markdown",
   "metadata": {},
   "source": [
    "## Remove Outliers\n",
    "Remove points that are more than 3 standard deviations from the mean"
   ]
  },
  {
   "cell_type": "code",
   "execution_count": 123,
   "metadata": {
    "collapsed": true
   },
   "outputs": [],
   "source": [
    "import numpy as np\n",
    "df = df[np.abs(df.RevPAR-df.RevPAR.mean())<=(3*df.RevPAR.std())]"
   ]
  },
  {
   "cell_type": "markdown",
   "metadata": {},
   "source": [
    "## Relationship between price and quantity after outlier removal"
   ]
  },
  {
   "cell_type": "code",
   "execution_count": 124,
   "metadata": {},
   "outputs": [
    {
     "data": {
      "image/png": "[encoded data removed]",
      "text/plain": [
       "<matplotlib.figure.Figure at 0x1fb9b7d6978>"
      ]
     },
     "metadata": {},
     "output_type": "display_data"
    }
   ],
   "source": [
    "# Show the results of a linear regression within each dataset\n",
    "sns.lmplot(x=\"availability_30\", y=\"price\", data=df)\n",
    "plt.show()\n",
    "\n"
   ]
  },
  {
   "cell_type": "markdown",
   "metadata": {},
   "source": [
    "## Relationship between RevPAR and Occupancy Rate after outlier removal\n",
    "We can see the relationship between the two more clearly now and we can definitely say that RevPAR decreases as availability increases\n"
   ]
  },
  {
   "cell_type": "code",
   "execution_count": 125,
   "metadata": {},
   "outputs": [
    {
     "data": {
      "image/png": "[encoded data removed]",
      "text/plain": [
       "<matplotlib.figure.Figure at 0x1fba0e4af98>"
      ]
     },
     "metadata": {},
     "output_type": "display_data"
    }
   ],
   "source": [
    "# Show the results of a linear regression within each dataset\n",
    "sns.lmplot(x=\"availability_30\", y=\"RevPAR\", data=df)\n",
    "plt.show()"
   ]
  },
  {
   "cell_type": "markdown",
   "metadata": {},
   "source": [
    "## Average Revenue Per Month\n",
    "### Exploring our target variable\n"
   ]
  },
  {
   "cell_type": "code",
   "execution_count": 126,
   "metadata": {},
   "outputs": [
    {
     "name": "stdout",
     "output_type": "stream",
     "text": [
      "Average Monthly Revenue: 3185.1005370471507\n",
      "Median Monthly Revenue: 2550.0\n"
     ]
    }
   ],
   "source": [
    "print(\"Average Monthly Revenue:\", df[\"RevPAR\"].mean())\n",
    "print(\"Median Monthly Revenue:\", df[\"RevPAR\"].median())"
   ]
  },
  {
   "cell_type": "markdown",
   "metadata": {},
   "source": [
    "## Create binary target variable\n",
    "I will create a binary variable to turn this into a classification problem."
   ]
  },
  {
   "cell_type": "code",
   "execution_count": 127,
   "metadata": {
    "collapsed": true
   },
   "outputs": [],
   "source": [
    "# Rooms that make more than the average monthly revenue will be labeled as 1 (Successful),\n",
    "# whereas rooms that earn less will be labeled as 0 (Not Successful)\n",
    "AverageRevPAR = df[\"RevPAR\"].mean()\n",
    "df[\"Successful\"] = [1 if x >= AverageRevPAR else 0 for x in df[\"RevPAR\"]]"
   ]
  },
  {
   "cell_type": "markdown",
   "metadata": {},
   "source": [
    "## Check for columns with a lot of missing values"
   ]
  },
  {
   "cell_type": "code",
   "execution_count": 128,
   "metadata": {
    "scrolled": true
   },
   "outputs": [
    {
     "data": {
      "text/plain": [
       "id                                   0\n",
       "host_response_time               13493\n",
       "host_response_rate               13493\n",
       "host_is_superhost                  231\n",
       "host_has_profile_pic               231\n",
       "neighbourhood_cleansed               0\n",
       "latitude                             0\n",
       "longitude                            0\n",
       "is_location_exact                    0\n",
       "property_type                        0\n",
       "room_type                            0\n",
       "accommodates                         0\n",
       "bathrooms                          142\n",
       "bedrooms                            73\n",
       "beds                                89\n",
       "bed_type                             0\n",
       "amenities                            0\n",
       "square_feet                      43406\n",
       "price                                0\n",
       "weekly_price                     35495\n",
       "security_deposit                 20539\n",
       "cleaning_fee                     12060\n",
       "guests_included                      0\n",
       "extra_people                         0\n",
       "minimum_nights                       0\n",
       "maximum_nights                       0\n",
       "calendar_updated                     0\n",
       "availability_30                      0\n",
       "number_of_reviews                    0\n",
       "review_scores_rating              9915\n",
       "                                 ...  \n",
       "review_scores_communication       9990\n",
       "review_scores_location           10108\n",
       "review_scores_value              10112\n",
       "instant_bookable                     0\n",
       "is_business_travel_ready             0\n",
       "cancellation_policy                  0\n",
       "require_guest_profile_picture        0\n",
       "reviews_per_month                 9296\n",
       "RevPAR                               0\n",
       "Wireless Internet                    0\n",
       "Air conditioning                     0\n",
       "Pool                                 0\n",
       "Kitchen                              0\n",
       "Free parking on premises             0\n",
       "Gym                                  0\n",
       "Hot tub                              0\n",
       "Indoor fireplace                     0\n",
       "Heating                              0\n",
       "Family kid friendly                  0\n",
       "Suitable for events                  0\n",
       "Washer                               0\n",
       "Dryer                                0\n",
       "Essentials                           0\n",
       "Shampoo                              0\n",
       "Lock on bedroom door                 0\n",
       "Cable TV                             0\n",
       "24 hour check in                     0\n",
       "Laptop friendly workspace            0\n",
       "Hair dryer                           0\n",
       "Successful                           0\n",
       "Length: 63, dtype: int64"
      ]
     },
     "execution_count": 128,
     "metadata": {},
     "output_type": "execute_result"
    }
   ],
   "source": [
    "df.isnull().sum()"
   ]
  },
  {
   "cell_type": "markdown",
   "metadata": {},
   "source": [
    "## Does an amenity contribute to how Successful a room is?"
   ]
  },
  {
   "cell_type": "code",
   "execution_count": 129,
   "metadata": {},
   "outputs": [
    {
     "name": "stdout",
     "output_type": "stream",
     "text": [
      "Wireless Internet\n",
      "False    0.276891\n",
      "True     0.393549\n",
      "Name: Successful, dtype: float64\n",
      "Air conditioning\n",
      "False    0.198933\n",
      "True     0.426632\n",
      "Name: Successful, dtype: float64\n",
      "Pool\n",
      "False    0.388358\n",
      "True     0.513570\n",
      "Name: Successful, dtype: float64\n",
      "Kitchen\n",
      "False    0.222676\n",
      "True     0.402772\n",
      "Name: Successful, dtype: float64\n",
      "Free parking on premises\n",
      "False    0.404931\n",
      "True     0.250058\n",
      "Name: Successful, dtype: float64\n",
      "Gym\n",
      "False    0.377902\n",
      "True     0.540338\n",
      "Name: Successful, dtype: float64\n",
      "Hot tub\n",
      "False    0.390215\n",
      "True     0.379205\n",
      "Name: Successful, dtype: float64\n",
      "Indoor fireplace\n",
      "False    0.384904\n",
      "True     0.515058\n",
      "Name: Successful, dtype: float64\n",
      "Heating\n",
      "False    0.262085\n",
      "True     0.401899\n",
      "Name: Successful, dtype: float64\n",
      "Family kid friendly\n",
      "False    0.295522\n",
      "True     0.522175\n",
      "Name: Successful, dtype: float64\n",
      "Suitable for events\n",
      "False    0.388156\n",
      "True     0.424434\n",
      "Name: Successful, dtype: float64\n",
      "Washer\n",
      "False    0.348821\n",
      "True     0.456334\n",
      "Name: Successful, dtype: float64\n",
      "Dryer\n",
      "False    0.347623\n",
      "True     0.459666\n",
      "Name: Successful, dtype: float64\n",
      "Essentials\n",
      "False    0.335133\n",
      "True     0.399167\n",
      "Name: Successful, dtype: float64\n",
      "Shampoo\n",
      "False    0.338531\n",
      "True     0.425522\n",
      "Name: Successful, dtype: float64\n",
      "Lock on bedroom door\n",
      "False    0.438621\n",
      "True     0.246854\n",
      "Name: Successful, dtype: float64\n",
      "24 hour check in\n",
      "False    0.372721\n",
      "True     0.466491\n",
      "Name: Successful, dtype: float64\n",
      "Laptop friendly workspace\n",
      "False    0.355878\n",
      "True     0.418430\n",
      "Name: Successful, dtype: float64\n",
      "Hair dryer\n",
      "False    0.343862\n",
      "True     0.429073\n",
      "Name: Successful, dtype: float64\n",
      "is_business_travel_ready\n",
      "f    0.363839\n",
      "t    0.738872\n",
      "Name: Successful, dtype: float64\n"
     ]
    }
   ],
   "source": [
    "Exploratory_Analysis = ['Wireless Internet', 'Air conditioning', 'Pool', 'Kitchen',\n",
    "       'Free parking on premises', 'Gym', 'Hot tub', 'Indoor fireplace',\n",
    "       'Heating', 'Family kid friendly', 'Suitable for events', 'Washer',\n",
    "       'Dryer', 'Essentials', 'Shampoo', 'Lock on bedroom door',\n",
    "       '24 hour check in', 'Laptop friendly workspace', 'Hair dryer','is_business_travel_ready']\n",
    "for r in Exploratory_Analysis :\n",
    "    print(df.groupby(r)['Successful'].mean())"
   ]
  },
  {
   "cell_type": "markdown",
   "metadata": {},
   "source": [
    "## Replace missing values with 0\n",
    "I'm doing this because when I manually checked rentals and if they had not received any reviews or ratings, it is recorded as null in this dataset."
   ]
  },
  {
   "cell_type": "code",
   "execution_count": 130,
   "metadata": {
    "collapsed": true
   },
   "outputs": [],
   "source": [
    "df['number_of_reviews'].fillna(0, inplace=True)\n",
    "df['review_scores_rating'].fillna(0, inplace=True)\n",
    "df['reviews_per_month'].fillna(0, inplace=True)"
   ]
  },
  {
   "cell_type": "markdown",
   "metadata": {},
   "source": [
    "## Drop columns that won't be used for modeling\n",
    "\n",
    "__ I tested different models, and saw that adding more and more features was not necessarily a good thing.__\n",
    "\n",
    "<br> __Columns that were transformed in some way:__ amenities, price, weekly_price, avaialability_30, RevPAR\n",
    "<br> __Columns that won't be used do to large number of missing variables__: review_scores_accuracy, \"review_scores_cleanliness\",\"review_scores_checkin\", \n",
    "\"review_scores_communication\", \"review_scores_location\", \"review_scores_value\",\n",
    "<br>__Features that cannot be modeled__: latitude, longitude, id\n",
    "<br>__Features excluded that make model worse__: cleaning fee, security_deposit, \"host_has_profile_pic\",'bathrooms','bedrooms','beds','accommodates','square_feet','guests_included','minimum_nights','maximum_nights'\n"
   ]
  },
  {
   "cell_type": "code",
   "execution_count": 131,
   "metadata": {
    "collapsed": true
   },
   "outputs": [],
   "source": [
    "df.drop([\"amenities\",\"id\",\"price\",\"weekly_price\", \n",
    "         \"availability_30\", \"review_scores_accuracy\", \"review_scores_cleanliness\",\"review_scores_checkin\", \n",
    "         \"review_scores_communication\", \"review_scores_location\", \"review_scores_value\",\n",
    "         \"cleaning_fee\", \"security_deposit\",\n",
    "         \"host_has_profile_pic\",'bathrooms','bedrooms','beds', 'latitude','longitude',\n",
    "         'accommodates','square_feet','guests_included','minimum_nights','maximum_nights'], axis=1, inplace = True)"
   ]
  },
  {
   "cell_type": "markdown",
   "metadata": {},
   "source": [
    "## Establish features to be used and target variable"
   ]
  },
  {
   "cell_type": "code",
   "execution_count": 132,
   "metadata": {
    "collapsed": true
   },
   "outputs": [],
   "source": [
    "X = df[[\n",
    "        'neighbourhood_cleansed','is_location_exact',\n",
    "       'bed_type',\n",
    "        'number_of_reviews',\n",
    "       'instant_bookable', 'cancellation_policy', 'Wireless Internet',\n",
    "       'Air conditioning', 'Pool', 'Kitchen', 'Free parking on premises',\n",
    "       'Gym', 'Hot tub', 'Indoor fireplace', 'Heating', 'Family kid friendly',\n",
    "       'Suitable for events', 'Washer', 'Dryer', 'Essentials', 'Shampoo', 'Cable TV',\n",
    "       'Lock on bedroom door', '24 hour check in', 'Laptop friendly workspace',\n",
    "       'Hair dryer','is_business_travel_ready','number_of_reviews','review_scores_rating','reviews_per_month']]\n",
    "\n",
    "y = df[\"Successful\"]"
   ]
  },
  {
   "cell_type": "markdown",
   "metadata": {},
   "source": [
    "## Check for missing values to be sure "
   ]
  },
  {
   "cell_type": "code",
   "execution_count": 133,
   "metadata": {
    "scrolled": true
   },
   "outputs": [
    {
     "data": {
      "text/plain": [
       "neighbourhood_cleansed       0\n",
       "is_location_exact            0\n",
       "bed_type                     0\n",
       "number_of_reviews            0\n",
       "instant_bookable             0\n",
       "cancellation_policy          0\n",
       "Wireless Internet            0\n",
       "Air conditioning             0\n",
       "Pool                         0\n",
       "Kitchen                      0\n",
       "Free parking on premises     0\n",
       "Gym                          0\n",
       "Hot tub                      0\n",
       "Indoor fireplace             0\n",
       "Heating                      0\n",
       "Family kid friendly          0\n",
       "Suitable for events          0\n",
       "Washer                       0\n",
       "Dryer                        0\n",
       "Essentials                   0\n",
       "Shampoo                      0\n",
       "Cable TV                     0\n",
       "Lock on bedroom door         0\n",
       "24 hour check in             0\n",
       "Laptop friendly workspace    0\n",
       "Hair dryer                   0\n",
       "is_business_travel_ready     0\n",
       "number_of_reviews            0\n",
       "review_scores_rating         0\n",
       "reviews_per_month            0\n",
       "dtype: int64"
      ]
     },
     "execution_count": 133,
     "metadata": {},
     "output_type": "execute_result"
    }
   ],
   "source": [
    "X.isnull().sum()"
   ]
  },
  {
   "cell_type": "markdown",
   "metadata": {},
   "source": [
    "## Correlation Analysis\n",
    "Machine learning algorithms like linear and logistic regression can have poor performance if there are highly correlated input variables in your data."
   ]
  },
  {
   "cell_type": "code",
   "execution_count": 134,
   "metadata": {},
   "outputs": [
    {
     "data": {
      "text/plain": [
       "number_of_reviews            0.011391\n",
       "review_scores_rating         0.041396\n",
       "reviews_per_month           -0.040757\n",
       "RevPAR                       0.766692\n",
       "Wireless Internet            0.042600\n",
       "Air conditioning             0.172067\n",
       "Pool                         0.026659\n",
       "Kitchen                      0.095734\n",
       "Free parking on premises    -0.094500\n",
       "Gym                          0.086521\n",
       "Hot tub                     -0.004663\n",
       "Indoor fireplace             0.050393\n",
       "Heating                      0.080836\n",
       "Family kid friendly          0.229042\n",
       "Suitable for events          0.015126\n",
       "Washer                       0.107030\n",
       "Dryer                        0.111268\n",
       "Essentials                   0.046558\n",
       "Shampoo                      0.087780\n",
       "Lock on bedroom door        -0.171384\n",
       "Cable TV                     0.169448\n",
       "24 hour check in             0.074081\n",
       "Laptop friendly workspace    0.063914\n",
       "Hair dryer                   0.087106\n",
       "Name: Successful, dtype: float64"
      ]
     },
     "execution_count": 134,
     "metadata": {},
     "output_type": "execute_result"
    }
   ],
   "source": [
    "df[df.columns[1:]].corr()['Successful'][:-1]"
   ]
  },
  {
   "cell_type": "markdown",
   "metadata": {},
   "source": [
    "## Prepare data for modeling by turning categorical variables into dummy variables"
   ]
  },
  {
   "cell_type": "code",
   "execution_count": 135,
   "metadata": {
    "collapsed": true
   },
   "outputs": [],
   "source": [
    "X_train1 = pd.get_dummies(X)"
   ]
  },
  {
   "cell_type": "markdown",
   "metadata": {},
   "source": [
    "## Logistic Regression "
   ]
  },
  {
   "cell_type": "code",
   "execution_count": 136,
   "metadata": {},
   "outputs": [
    {
     "name": "stdout",
     "output_type": "stream",
     "text": [
      "Results:\n",
      "Accuracy 0.7579646823229564\n",
      "Specificity: 0.8327364965681886\n",
      "False Positive Rate: 0.1672635034318114\n",
      "Precision: 0.7101111973105767\n",
      "Recall: 0.6409897292250234\n",
      "-----------------------------------------------------------------------\n",
      "Class Distribution: 0    6702\n",
      "1    4284\n",
      "Name: Successful, dtype: int64\n",
      "Percentage of Ones: 0.3899508465319498\n",
      "Percentage of Zeros: 0.6100491534680502\n",
      "Null Accuracy: 0.6100491534680502\n",
      "------------\n",
      "Improvement in accuracy compared to Naive Model 0.14791552885490622\n"
     ]
    }
   ],
   "source": [
    "from sklearn import metrics\n",
    "from sklearn.linear_model import LogisticRegression\n",
    "from sklearn.cross_validation import train_test_split\n",
    "\n",
    "# Create Training and Test Dataset with 75% Training and 25% Test\n",
    "X_train, X_test, y_train, y_test = train_test_split(X_train1, y, test_size=0.25)\n",
    "\n",
    "# Run Logistic Regression\n",
    "logreg = LogisticRegression()\n",
    "logreg.fit(X_train, y_train)\n",
    "y_pred = logreg.predict(X_test)\n",
    "\n",
    "# Analyze results\n",
    "print(\"Results:\")\n",
    "print(\"Accuracy\", metrics.accuracy_score(y_test,y_pred))\n",
    "\n",
    "# save confusion matrix and slice into four pieces\n",
    "confusion = metrics.confusion_matrix(y_test, y_pred)\n",
    "TP = confusion[1, 1]\n",
    "TN = confusion[0, 0]\n",
    "FP = confusion[0, 1]\n",
    "FN = confusion[1, 0]\n",
    "\n",
    "#Specificity: When the actual value is negative, how often is the prediction correct?\n",
    "print(\"Specificity:\",TN / float(TN + FP))\n",
    "\n",
    "#False Positive Rate: When the actual value is negative, how often is the prediction incorrect?\n",
    "print(\"False Positive Rate:\",FP / float(TN + FP))\n",
    "\n",
    "#Precision: When a positive value is predicted, how often is the prediction correct?\n",
    "print(\"Precision:\",metrics.precision_score(y_test, y_pred))\n",
    "\n",
    "#Sensitivity:\n",
    "print(\"Recall:\",metrics.recall_score(y_test, y_pred))\n",
    "\n",
    "print(\"-----------------------------------------------------------------------\")\n",
    "# examine the class distribution of the testing set (using a Pandas Series method)\n",
    "print(\"Class Distribution:\", y_test.value_counts())\n",
    "# calculate the percentage of ones\n",
    "print(\"Percentage of Ones:\", y_test.mean())\n",
    "\n",
    "# calculate the percentage of zeros\n",
    "print(\"Percentage of Zeros:\", 1 - y_test.mean())\n",
    "\n",
    "# calculate null accuracy (for binary classification problems coded as 0/1)\n",
    "print(\"Null Accuracy:\",max(y_test.mean(), 1 - y_test.mean()))\n",
    "\n",
    "print('------------')\n",
    "print(\"Improvement in accuracy compared to Naive Model\", metrics.accuracy_score(y_test,y_pred) - max(y_test.mean(), 1 - y_test.mean()))\n"
   ]
  },
  {
   "cell_type": "markdown",
   "metadata": {},
   "source": [
    "## Decision Tree Classifier"
   ]
  },
  {
   "cell_type": "code",
   "execution_count": 137,
   "metadata": {},
   "outputs": [
    {
     "name": "stdout",
     "output_type": "stream",
     "text": [
      "Accuracy on the training subset: 0.705\n",
      "Accuracy on the test subset: 0.694\n",
      "Specificity: 0.7977242102111094\n",
      "False Positive Rate: 0.20227578978889055\n",
      "Precision: 0.629049972542559\n",
      "Recall: 0.5319247736243324\n",
      "--------------------------------------------------------------\n",
      "Class Distribution: 0    6679\n",
      "1    4307\n",
      "Name: Successful, dtype: int64\n",
      "Percentage of Ones: 0.3920444201711269\n",
      "Percentage of Zeros: 0.6079555798288732\n",
      "Null Accuracy: 0.6079555798288732\n",
      "--------------\n",
      "Improvement in accuracy compared to Naive Model 0.08556344438376107\n"
     ]
    }
   ],
   "source": [
    "from sklearn.tree import DecisionTreeClassifier\n",
    "from sklearn.cross_validation import train_test_split\n",
    "\n",
    "X_train2, X_test2, y_train2, y_test2 = train_test_split(X_train1, y, test_size=0.25, random_state = 42)\n",
    "\n",
    "tree = DecisionTreeClassifier(max_depth=8, random_state=0)\n",
    "tree.fit(X_train2, y_train2)\n",
    "y_pred2 = tree.predict(X_test2)\n",
    "print('Accuracy on the training subset: {:.3f}'.format(tree.score(X_train2, y_train2)))\n",
    "print('Accuracy on the test subset: {:.3f}'.format(tree.score(X_test2, y_test2)))\n",
    "\n",
    "\n",
    "# save confusion matrix and slice into four pieces\n",
    "confusion = metrics.confusion_matrix(y_test2, y_pred2)\n",
    "TP = confusion[1, 1]\n",
    "TN = confusion[0, 0]\n",
    "FP = confusion[0, 1]\n",
    "FN = confusion[1, 0]\n",
    "\n",
    "#Specificity: When the actual value is negative, how often is the prediction correct?\n",
    "print(\"Specificity:\",TN / float(TN + FP))\n",
    "\n",
    "#False Positive Rate: When the actual value is negative, how often is the prediction incorrect?\n",
    "print(\"False Positive Rate:\",FP / float(TN + FP))\n",
    "\n",
    "#Precision: When a positive value is predicted, how often is the prediction correct?\n",
    "print(\"Precision:\",metrics.precision_score(y_test2, y_pred2))\n",
    "\n",
    "#Sensitivity:\n",
    "print(\"Recall:\",metrics.recall_score(y_test2, y_pred2))\n",
    "\n",
    "print(\"--------------------------------------------------------------\")\n",
    "# examine the class distribution of the testing set (using a Pandas Series method)\n",
    "print(\"Class Distribution:\", y_test2.value_counts())\n",
    "# calculate the percentage of ones\n",
    "print(\"Percentage of Ones:\", y_test2.mean())\n",
    "\n",
    "# calculate the percentage of zeros\n",
    "print(\"Percentage of Zeros:\", 1 - y_test2.mean())\n",
    "\n",
    "# calculate null accuracy (for binary classification problems coded as 0/1)\n",
    "print(\"Null Accuracy:\",max(y_test2.mean(), 1 - y_test2.mean()))\n",
    "\n",
    "print(\"--------------\")\n",
    "print(\"Improvement in accuracy compared to Naive Model\", metrics.accuracy_score(y_test2,y_pred2) - max(y_test2.mean(), 1 - y_test2.mean()))\n"
   ]
  },
  {
   "cell_type": "markdown",
   "metadata": {},
   "source": [
    "## Most important features according to Logistic Regression"
   ]
  },
  {
   "cell_type": "markdown",
   "metadata": {},
   "source": [
    "Both models perform about the same in terms of accuracy (~ 70 %), which is ~8 % then a naive model. The decision tree however outperforms the logistic regression 57% compared to 49 % in terms of recall. To choose a model, we need to evaluate which metric has the biggest payoff.\n",
    "\n",
    "__True Positives__: Model predicts host will be successful, and they are (This is good)\n",
    "<br>__False Positives__: Model predicts host will be successful, but they aren't (We don't do anything to help the hosts, and they don't make money)\n",
    "<br>__True Negatives__: Model predicts host will not be successful, and they aren't (This is good, so we can recommend to them how they can improve)\n",
    "<br>__False Negatives__: Model predicts host will not be successful, but they would have been (We recommend changes to host, but it was not necessary. Host's waste money) \n",
    "\n",
    "__Most Important Metric__: Specificity/ Recall\n",
    "Optimizing for specificity because false negatives ( we reach out to host but we didn’t have to) is more acceptable than false positive (us not reaching out to hose and host failing)\n",
    "When host doesn't make money, AirBnb doesn't make money, and no one is happy.\n",
    "Based on that, Decision Tree performs better even though it's accuracy is marginally worse.\n"
   ]
  },
  {
   "cell_type": "markdown",
   "metadata": {},
   "source": [
    "## Most important features according to the Decision Tree"
   ]
  },
  {
   "cell_type": "code",
   "execution_count": 138,
   "metadata": {
    "scrolled": true
   },
   "outputs": [
    {
     "data": {
      "text/html": [
       "<div>\n",
       "<style>\n",
       "    .dataframe thead tr:only-child th {\n",
       "        text-align: right;\n",
       "    }\n",
       "\n",
       "    .dataframe thead th {\n",
       "        text-align: left;\n",
       "    }\n",
       "\n",
       "    .dataframe tbody tr th {\n",
       "        vertical-align: top;\n",
       "    }\n",
       "</style>\n",
       "<table border=\"1\" class=\"dataframe\">\n",
       "  <thead>\n",
       "    <tr style=\"text-align: right;\">\n",
       "      <th></th>\n",
       "      <th>features</th>\n",
       "      <th>FeatureImportances</th>\n",
       "    </tr>\n",
       "  </thead>\n",
       "  <tbody>\n",
       "    <tr>\n",
       "      <th>10</th>\n",
       "      <td>Family kid friendly</td>\n",
       "      <td>0.254937</td>\n",
       "    </tr>\n",
       "    <tr>\n",
       "      <th>17</th>\n",
       "      <td>Lock on bedroom door</td>\n",
       "      <td>0.124989</td>\n",
       "    </tr>\n",
       "    <tr>\n",
       "      <th>2</th>\n",
       "      <td>Air conditioning</td>\n",
       "      <td>0.095027</td>\n",
       "    </tr>\n",
       "    <tr>\n",
       "      <th>256</th>\n",
       "      <td>is_business_travel_ready_f</td>\n",
       "      <td>0.074553</td>\n",
       "    </tr>\n",
       "    <tr>\n",
       "      <th>5</th>\n",
       "      <td>Free parking on premises</td>\n",
       "      <td>0.046669</td>\n",
       "    </tr>\n",
       "    <tr>\n",
       "      <th>230</th>\n",
       "      <td>neighbourhood_cleansed_West Village</td>\n",
       "      <td>0.045824</td>\n",
       "    </tr>\n",
       "    <tr>\n",
       "      <th>257</th>\n",
       "      <td>is_business_travel_ready_t</td>\n",
       "      <td>0.039096</td>\n",
       "    </tr>\n",
       "    <tr>\n",
       "      <th>16</th>\n",
       "      <td>Cable TV</td>\n",
       "      <td>0.037013</td>\n",
       "    </tr>\n",
       "    <tr>\n",
       "      <th>23</th>\n",
       "      <td>reviews_per_month</td>\n",
       "      <td>0.028263</td>\n",
       "    </tr>\n",
       "    <tr>\n",
       "      <th>86</th>\n",
       "      <td>neighbourhood_cleansed_East Village</td>\n",
       "      <td>0.027352</td>\n",
       "    </tr>\n",
       "    <tr>\n",
       "      <th>118</th>\n",
       "      <td>neighbourhood_cleansed_Hell's Kitchen</td>\n",
       "      <td>0.023114</td>\n",
       "    </tr>\n",
       "    <tr>\n",
       "      <th>56</th>\n",
       "      <td>neighbourhood_cleansed_Chelsea</td>\n",
       "      <td>0.018028</td>\n",
       "    </tr>\n",
       "    <tr>\n",
       "      <th>12</th>\n",
       "      <td>Washer</td>\n",
       "      <td>0.017809</td>\n",
       "    </tr>\n",
       "    <tr>\n",
       "      <th>151</th>\n",
       "      <td>neighbourhood_cleansed_Midtown</td>\n",
       "      <td>0.017508</td>\n",
       "    </tr>\n",
       "    <tr>\n",
       "      <th>21</th>\n",
       "      <td>number_of_reviews</td>\n",
       "      <td>0.016578</td>\n",
       "    </tr>\n",
       "    <tr>\n",
       "      <th>37</th>\n",
       "      <td>neighbourhood_cleansed_Bedford-Stuyvesant</td>\n",
       "      <td>0.016096</td>\n",
       "    </tr>\n",
       "    <tr>\n",
       "      <th>50</th>\n",
       "      <td>neighbourhood_cleansed_Bushwick</td>\n",
       "      <td>0.015157</td>\n",
       "    </tr>\n",
       "    <tr>\n",
       "      <th>0</th>\n",
       "      <td>number_of_reviews</td>\n",
       "      <td>0.011897</td>\n",
       "    </tr>\n",
       "    <tr>\n",
       "      <th>222</th>\n",
       "      <td>neighbourhood_cleansed_Upper East Side</td>\n",
       "      <td>0.009085</td>\n",
       "    </tr>\n",
       "    <tr>\n",
       "      <th>22</th>\n",
       "      <td>review_scores_rating</td>\n",
       "      <td>0.007996</td>\n",
       "    </tr>\n",
       "    <tr>\n",
       "      <th>13</th>\n",
       "      <td>Dryer</td>\n",
       "      <td>0.006060</td>\n",
       "    </tr>\n",
       "    <tr>\n",
       "      <th>223</th>\n",
       "      <td>neighbourhood_cleansed_Upper West Side</td>\n",
       "      <td>0.005977</td>\n",
       "    </tr>\n",
       "    <tr>\n",
       "      <th>20</th>\n",
       "      <td>Hair dryer</td>\n",
       "      <td>0.004697</td>\n",
       "    </tr>\n",
       "    <tr>\n",
       "      <th>18</th>\n",
       "      <td>24 hour check in</td>\n",
       "      <td>0.004663</td>\n",
       "    </tr>\n",
       "    <tr>\n",
       "      <th>6</th>\n",
       "      <td>Gym</td>\n",
       "      <td>0.004537</td>\n",
       "    </tr>\n",
       "    <tr>\n",
       "      <th>4</th>\n",
       "      <td>Kitchen</td>\n",
       "      <td>0.004089</td>\n",
       "    </tr>\n",
       "    <tr>\n",
       "      <th>235</th>\n",
       "      <td>neighbourhood_cleansed_Williamsburg</td>\n",
       "      <td>0.003917</td>\n",
       "    </tr>\n",
       "    <tr>\n",
       "      <th>15</th>\n",
       "      <td>Shampoo</td>\n",
       "      <td>0.003032</td>\n",
       "    </tr>\n",
       "    <tr>\n",
       "      <th>227</th>\n",
       "      <td>neighbourhood_cleansed_Washington Heights</td>\n",
       "      <td>0.002935</td>\n",
       "    </tr>\n",
       "    <tr>\n",
       "      <th>14</th>\n",
       "      <td>Essentials</td>\n",
       "      <td>0.002809</td>\n",
       "    </tr>\n",
       "    <tr>\n",
       "      <th>...</th>\n",
       "      <td>...</td>\n",
       "      <td>...</td>\n",
       "    </tr>\n",
       "    <tr>\n",
       "      <th>145</th>\n",
       "      <td>neighbourhood_cleansed_Marble Hill</td>\n",
       "      <td>0.000000</td>\n",
       "    </tr>\n",
       "    <tr>\n",
       "      <th>146</th>\n",
       "      <td>neighbourhood_cleansed_Mariners Harbor</td>\n",
       "      <td>0.000000</td>\n",
       "    </tr>\n",
       "    <tr>\n",
       "      <th>119</th>\n",
       "      <td>neighbourhood_cleansed_Highbridge</td>\n",
       "      <td>0.000000</td>\n",
       "    </tr>\n",
       "    <tr>\n",
       "      <th>115</th>\n",
       "      <td>neighbourhood_cleansed_Greenwich Village</td>\n",
       "      <td>0.000000</td>\n",
       "    </tr>\n",
       "    <tr>\n",
       "      <th>84</th>\n",
       "      <td>neighbourhood_cleansed_East Morrisania</td>\n",
       "      <td>0.000000</td>\n",
       "    </tr>\n",
       "    <tr>\n",
       "      <th>113</th>\n",
       "      <td>neighbourhood_cleansed_Great Kills</td>\n",
       "      <td>0.000000</td>\n",
       "    </tr>\n",
       "    <tr>\n",
       "      <th>87</th>\n",
       "      <td>neighbourhood_cleansed_Eastchester</td>\n",
       "      <td>0.000000</td>\n",
       "    </tr>\n",
       "    <tr>\n",
       "      <th>88</th>\n",
       "      <td>neighbourhood_cleansed_Edenwald</td>\n",
       "      <td>0.000000</td>\n",
       "    </tr>\n",
       "    <tr>\n",
       "      <th>89</th>\n",
       "      <td>neighbourhood_cleansed_Edgemere</td>\n",
       "      <td>0.000000</td>\n",
       "    </tr>\n",
       "    <tr>\n",
       "      <th>91</th>\n",
       "      <td>neighbourhood_cleansed_Eltingville</td>\n",
       "      <td>0.000000</td>\n",
       "    </tr>\n",
       "    <tr>\n",
       "      <th>92</th>\n",
       "      <td>neighbourhood_cleansed_Emerson Hill</td>\n",
       "      <td>0.000000</td>\n",
       "    </tr>\n",
       "    <tr>\n",
       "      <th>93</th>\n",
       "      <td>neighbourhood_cleansed_Far Rockaway</td>\n",
       "      <td>0.000000</td>\n",
       "    </tr>\n",
       "    <tr>\n",
       "      <th>94</th>\n",
       "      <td>neighbourhood_cleansed_Fieldston</td>\n",
       "      <td>0.000000</td>\n",
       "    </tr>\n",
       "    <tr>\n",
       "      <th>95</th>\n",
       "      <td>neighbourhood_cleansed_Financial District</td>\n",
       "      <td>0.000000</td>\n",
       "    </tr>\n",
       "    <tr>\n",
       "      <th>97</th>\n",
       "      <td>neighbourhood_cleansed_Flatiron District</td>\n",
       "      <td>0.000000</td>\n",
       "    </tr>\n",
       "    <tr>\n",
       "      <th>98</th>\n",
       "      <td>neighbourhood_cleansed_Flatlands</td>\n",
       "      <td>0.000000</td>\n",
       "    </tr>\n",
       "    <tr>\n",
       "      <th>99</th>\n",
       "      <td>neighbourhood_cleansed_Flushing</td>\n",
       "      <td>0.000000</td>\n",
       "    </tr>\n",
       "    <tr>\n",
       "      <th>100</th>\n",
       "      <td>neighbourhood_cleansed_Fordham</td>\n",
       "      <td>0.000000</td>\n",
       "    </tr>\n",
       "    <tr>\n",
       "      <th>101</th>\n",
       "      <td>neighbourhood_cleansed_Forest Hills</td>\n",
       "      <td>0.000000</td>\n",
       "    </tr>\n",
       "    <tr>\n",
       "      <th>102</th>\n",
       "      <td>neighbourhood_cleansed_Fort Greene</td>\n",
       "      <td>0.000000</td>\n",
       "    </tr>\n",
       "    <tr>\n",
       "      <th>103</th>\n",
       "      <td>neighbourhood_cleansed_Fort Hamilton</td>\n",
       "      <td>0.000000</td>\n",
       "    </tr>\n",
       "    <tr>\n",
       "      <th>105</th>\n",
       "      <td>neighbourhood_cleansed_Gerritsen Beach</td>\n",
       "      <td>0.000000</td>\n",
       "    </tr>\n",
       "    <tr>\n",
       "      <th>106</th>\n",
       "      <td>neighbourhood_cleansed_Glen Oaks</td>\n",
       "      <td>0.000000</td>\n",
       "    </tr>\n",
       "    <tr>\n",
       "      <th>107</th>\n",
       "      <td>neighbourhood_cleansed_Glendale</td>\n",
       "      <td>0.000000</td>\n",
       "    </tr>\n",
       "    <tr>\n",
       "      <th>108</th>\n",
       "      <td>neighbourhood_cleansed_Gowanus</td>\n",
       "      <td>0.000000</td>\n",
       "    </tr>\n",
       "    <tr>\n",
       "      <th>109</th>\n",
       "      <td>neighbourhood_cleansed_Gramercy</td>\n",
       "      <td>0.000000</td>\n",
       "    </tr>\n",
       "    <tr>\n",
       "      <th>110</th>\n",
       "      <td>neighbourhood_cleansed_Graniteville</td>\n",
       "      <td>0.000000</td>\n",
       "    </tr>\n",
       "    <tr>\n",
       "      <th>111</th>\n",
       "      <td>neighbourhood_cleansed_Grant City</td>\n",
       "      <td>0.000000</td>\n",
       "    </tr>\n",
       "    <tr>\n",
       "      <th>112</th>\n",
       "      <td>neighbourhood_cleansed_Gravesend</td>\n",
       "      <td>0.000000</td>\n",
       "    </tr>\n",
       "    <tr>\n",
       "      <th>129</th>\n",
       "      <td>neighbourhood_cleansed_Jamaica</td>\n",
       "      <td>0.000000</td>\n",
       "    </tr>\n",
       "  </tbody>\n",
       "</table>\n",
       "<p>258 rows × 2 columns</p>\n",
       "</div>"
      ],
      "text/plain": [
       "                                      features  FeatureImportances\n",
       "10                         Family kid friendly            0.254937\n",
       "17                        Lock on bedroom door            0.124989\n",
       "2                             Air conditioning            0.095027\n",
       "256                 is_business_travel_ready_f            0.074553\n",
       "5                     Free parking on premises            0.046669\n",
       "230        neighbourhood_cleansed_West Village            0.045824\n",
       "257                 is_business_travel_ready_t            0.039096\n",
       "16                                    Cable TV            0.037013\n",
       "23                           reviews_per_month            0.028263\n",
       "86         neighbourhood_cleansed_East Village            0.027352\n",
       "118      neighbourhood_cleansed_Hell's Kitchen            0.023114\n",
       "56              neighbourhood_cleansed_Chelsea            0.018028\n",
       "12                                      Washer            0.017809\n",
       "151             neighbourhood_cleansed_Midtown            0.017508\n",
       "21                           number_of_reviews            0.016578\n",
       "37   neighbourhood_cleansed_Bedford-Stuyvesant            0.016096\n",
       "50             neighbourhood_cleansed_Bushwick            0.015157\n",
       "0                            number_of_reviews            0.011897\n",
       "222     neighbourhood_cleansed_Upper East Side            0.009085\n",
       "22                        review_scores_rating            0.007996\n",
       "13                                       Dryer            0.006060\n",
       "223     neighbourhood_cleansed_Upper West Side            0.005977\n",
       "20                                  Hair dryer            0.004697\n",
       "18                            24 hour check in            0.004663\n",
       "6                                          Gym            0.004537\n",
       "4                                      Kitchen            0.004089\n",
       "235        neighbourhood_cleansed_Williamsburg            0.003917\n",
       "15                                     Shampoo            0.003032\n",
       "227  neighbourhood_cleansed_Washington Heights            0.002935\n",
       "14                                  Essentials            0.002809\n",
       "..                                         ...                 ...\n",
       "145         neighbourhood_cleansed_Marble Hill            0.000000\n",
       "146     neighbourhood_cleansed_Mariners Harbor            0.000000\n",
       "119          neighbourhood_cleansed_Highbridge            0.000000\n",
       "115   neighbourhood_cleansed_Greenwich Village            0.000000\n",
       "84      neighbourhood_cleansed_East Morrisania            0.000000\n",
       "113         neighbourhood_cleansed_Great Kills            0.000000\n",
       "87          neighbourhood_cleansed_Eastchester            0.000000\n",
       "88             neighbourhood_cleansed_Edenwald            0.000000\n",
       "89             neighbourhood_cleansed_Edgemere            0.000000\n",
       "91          neighbourhood_cleansed_Eltingville            0.000000\n",
       "92         neighbourhood_cleansed_Emerson Hill            0.000000\n",
       "93         neighbourhood_cleansed_Far Rockaway            0.000000\n",
       "94            neighbourhood_cleansed_Fieldston            0.000000\n",
       "95   neighbourhood_cleansed_Financial District            0.000000\n",
       "97    neighbourhood_cleansed_Flatiron District            0.000000\n",
       "98            neighbourhood_cleansed_Flatlands            0.000000\n",
       "99             neighbourhood_cleansed_Flushing            0.000000\n",
       "100             neighbourhood_cleansed_Fordham            0.000000\n",
       "101        neighbourhood_cleansed_Forest Hills            0.000000\n",
       "102         neighbourhood_cleansed_Fort Greene            0.000000\n",
       "103       neighbourhood_cleansed_Fort Hamilton            0.000000\n",
       "105     neighbourhood_cleansed_Gerritsen Beach            0.000000\n",
       "106           neighbourhood_cleansed_Glen Oaks            0.000000\n",
       "107            neighbourhood_cleansed_Glendale            0.000000\n",
       "108             neighbourhood_cleansed_Gowanus            0.000000\n",
       "109            neighbourhood_cleansed_Gramercy            0.000000\n",
       "110        neighbourhood_cleansed_Graniteville            0.000000\n",
       "111          neighbourhood_cleansed_Grant City            0.000000\n",
       "112           neighbourhood_cleansed_Gravesend            0.000000\n",
       "129             neighbourhood_cleansed_Jamaica            0.000000\n",
       "\n",
       "[258 rows x 2 columns]"
      ]
     },
     "execution_count": 138,
     "metadata": {},
     "output_type": "execute_result"
    }
   ],
   "source": [
    "a = zip(X_train1,tree.feature_importances_)\n",
    "Important_Features = pd.DataFrame(list(a), columns = ['features','FeatureImportances'])\n",
    "Important_Features.sort_values(by=['FeatureImportances'],ascending = False)"
   ]
  },
  {
   "cell_type": "markdown",
   "metadata": {},
   "source": [
    "## Analyzing Most Important Features"
   ]
  },
  {
   "cell_type": "code",
   "execution_count": 147,
   "metadata": {},
   "outputs": [
    {
     "name": "stdout",
     "output_type": "stream",
     "text": [
      "Family kid friendly\n",
      "False    2679.28419\n",
      "True     3896.30092\n",
      "Name: RevPAR, dtype: float64\n",
      "Family kid friendly\n",
      "False    0.295522\n",
      "True     0.522175\n",
      "Name: Successful, dtype: float64\n"
     ]
    }
   ],
   "source": [
    "Avg_rev_ff = df.groupby('Family kid friendly')['RevPAR'].mean()\n",
    "Suc_ff = df.groupby('Family kid friendly')['Successful'].mean()\n",
    "\n",
    "print(Avg_rev_ff)\n",
    "print(Suc_ff)"
   ]
  },
  {
   "cell_type": "markdown",
   "metadata": {},
   "source": [
    "Rooms that are family kid friendly were successful 52 % of the time with an average monthly revenue of 3900 dollars, while those who were not family kid friendly were successful only 30% of the timw with an average monthly revenue of 2700 dollars."
   ]
  },
  {
   "cell_type": "code",
   "execution_count": 152,
   "metadata": {},
   "outputs": [
    {
     "name": "stdout",
     "output_type": "stream",
     "text": [
      "Lock on bedroom door\n",
      "False    3398.832493\n",
      "True     2560.614101\n",
      "Name: RevPAR, dtype: float64\n",
      "Lock on bedroom door\n",
      "False    0.438621\n",
      "True     0.246854\n",
      "Name: Successful, dtype: float64\n"
     ]
    }
   ],
   "source": [
    "Avg_rev_Lock = df.groupby('Lock on bedroom door')['RevPAR'].mean()\n",
    "Suc_Lock = df.groupby('Lock on bedroom door')['Successful'].mean()\n",
    "\n",
    "print(Avg_rev_Lock)\n",
    "print(Suc_Lock)"
   ]
  },
  {
   "cell_type": "markdown",
   "metadata": {},
   "source": [
    "Rooms that had a lock on the bedroom door were successful only 25 % of the time with an average monthly revenue of 2560 dollars, while those who did not have a lock on the bedroom door were successful 44% of the timw with an average monthly revenue of 3400 dollars.\n",
    "\n",
    "This seemed surprising at first, but after thinking about it, my best guess is that these were private rooms. A host on AirBnb can rent entire home or private room. If a host is renting out entire home, then they don't need the bedroom door to lock, whereas if they were next door, guests would want their room to lock. These numbers would then make sense because if you are renting your entire home, you are bound to make more money all else equal.\n",
    "\n",
    "For the next version, I will compare how amenities compare for private room vs entire home to test my hypothesis."
   ]
  },
  {
   "cell_type": "code",
   "execution_count": 153,
   "metadata": {},
   "outputs": [
    {
     "name": "stdout",
     "output_type": "stream",
     "text": [
      "Air conditioning\n",
      "False    2222.236838\n",
      "True     3371.365932\n",
      "Name: RevPAR, dtype: float64\n",
      "Air conditioning\n",
      "False    0.198933\n",
      "True     0.426632\n",
      "Name: Successful, dtype: float64\n"
     ]
    }
   ],
   "source": [
    "Avg_rev_AC = df.groupby('Air conditioning')['RevPAR'].mean()\n",
    "Suc_AC = df.groupby('Air conditioning')['Successful'].mean()\n",
    "\n",
    "print(Avg_rev_AC)\n",
    "print(Suc_AC)"
   ]
  },
  {
   "cell_type": "markdown",
   "metadata": {},
   "source": [
    "Rooms that provid air conditioning were successful 43 % of the time with an average monthly revenue of 3371 dollars, while those who did not provide air conditioning were successful only 20% of the timw with an average monthly revenue of 2222 dollars. \n"
   ]
  },
  {
   "cell_type": "code",
   "execution_count": 154,
   "metadata": {},
   "outputs": [
    {
     "name": "stdout",
     "output_type": "stream",
     "text": [
      "is_business_travel_ready\n",
      "f    3049.827992\n",
      "t    5009.741180\n",
      "Name: RevPAR, dtype: float64\n",
      "is_business_travel_ready\n",
      "f    0.363839\n",
      "t    0.738872\n",
      "Name: Successful, dtype: float64\n"
     ]
    }
   ],
   "source": [
    "Avg_rev_BT = df.groupby('is_business_travel_ready')['RevPAR'].mean()\n",
    "Suc_BT = df.groupby('is_business_travel_ready')['Successful'].mean()\n",
    "\n",
    "print(Avg_rev_BT)\n",
    "print(Suc_BT)"
   ]
  },
  {
   "cell_type": "markdown",
   "metadata": {},
   "source": [
    "Rooms that are business travel ready were successful 74 % of the time with an average monthly revenue of 5009 dollars, while those who did are not business travel ready  were successful only 36% of the timw with an average monthly revenue of 3049 dollars.\n",
    "\n"
   ]
  },
  {
   "cell_type": "markdown",
   "metadata": {},
   "source": [
    "While it is hard to have your home be family kid friendly and business travel ready, NYC is a big city so both types of hosts can succeed. However, if I had to pick one, I would make it business travel ready as these rooms brought in an average of 5009  dollars a month "
   ]
  }
 ],
 "metadata": {
  "kernelspec": {
   "display_name": "Python 3",
   "language": "python",
   "name": "python3"
  },
  "language_info": {
   "codemirror_mode": {
    "name": "ipython",
    "version": 3
   },
   "file_extension": ".py",
   "mimetype": "text/x-python",
   "name": "python",
   "nbconvert_exporter": "python",
   "pygments_lexer": "ipython3",
   "version": "3.6.1"
  }
 },
 "nbformat": 4,
 "nbformat_minor": 2
}
