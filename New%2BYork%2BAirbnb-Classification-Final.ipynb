{
 "cells": [
  {
   "cell_type": "markdown",
   "metadata": {},
   "source": [
    "# Objective\n",
    "When hotels want to increase the value of their room, they offer room amenities that matter most to travelers. In fact, Per PwC’s Consumer Intelligence Series Report on hotel brand loyalty, “Both business and leisure travelers say room quality is the #1 reason for choosing a hotel.” Hotels have learned the art of  maximizing the values of their rooms, however how could AirBnB hosts that do too? \n",
    "\n",
    "My goal is to help hosts maximize the value of their AirBnb rental. I will do that by building a model that predicts how much revenue an Airbnb rental will earn in a month, and seeing which features contribute most to those earnings."
   ]
  },
  {
   "cell_type": "code",
   "execution_count": 2,
   "metadata": {},
   "outputs": [],
   "source": [
    "## Read Data\n",
    "import csv\n",
    "import pandas as pd\n",
    "import re\n",
    "df = pd.read_csv(\"New York.csv\")"
   ]
  },
  {
   "cell_type": "code",
   "execution_count": 3,
   "metadata": {},
   "outputs": [
    {
     "data": {
      "text/html": [
       "<div>\n",
       "<style>\n",
       "    .dataframe thead tr:only-child th {\n",
       "        text-align: right;\n",
       "    }\n",
       "\n",
       "    .dataframe thead th {\n",
       "        text-align: left;\n",
       "    }\n",
       "\n",
       "    .dataframe tbody tr th {\n",
       "        vertical-align: top;\n",
       "    }\n",
       "</style>\n",
       "<table border=\"1\" class=\"dataframe\">\n",
       "  <thead>\n",
       "    <tr style=\"text-align: right;\">\n",
       "      <th></th>\n",
       "      <th>id</th>\n",
       "      <th>host_response_time</th>\n",
       "      <th>host_response_rate</th>\n",
       "      <th>host_is_superhost</th>\n",
       "      <th>host_has_profile_pic</th>\n",
       "      <th>neighbourhood_cleansed</th>\n",
       "      <th>latitude</th>\n",
       "      <th>longitude</th>\n",
       "      <th>is_location_exact</th>\n",
       "      <th>property_type</th>\n",
       "      <th>...</th>\n",
       "      <th>maximum_nights</th>\n",
       "      <th>calendar_updated</th>\n",
       "      <th>availability_30</th>\n",
       "      <th>number_of_reviews</th>\n",
       "      <th>review_scores_rating</th>\n",
       "      <th>instant_bookable</th>\n",
       "      <th>is_business_travel_ready</th>\n",
       "      <th>cancellation_policy</th>\n",
       "      <th>require_guest_profile_picture</th>\n",
       "      <th>reviews_per_month</th>\n",
       "    </tr>\n",
       "  </thead>\n",
       "  <tbody>\n",
       "    <tr>\n",
       "      <th>0</th>\n",
       "      <td>18461891</td>\n",
       "      <td>NaN</td>\n",
       "      <td>NaN</td>\n",
       "      <td>f</td>\n",
       "      <td>t</td>\n",
       "      <td>Ditmars Steinway</td>\n",
       "      <td>40.774142</td>\n",
       "      <td>-73.916246</td>\n",
       "      <td>t</td>\n",
       "      <td>Apartment</td>\n",
       "      <td>...</td>\n",
       "      <td>6</td>\n",
       "      <td>5 months ago</td>\n",
       "      <td>0</td>\n",
       "      <td>0</td>\n",
       "      <td>NaN</td>\n",
       "      <td>f</td>\n",
       "      <td>f</td>\n",
       "      <td>strict</td>\n",
       "      <td>f</td>\n",
       "      <td>NaN</td>\n",
       "    </tr>\n",
       "    <tr>\n",
       "      <th>1</th>\n",
       "      <td>20702398</td>\n",
       "      <td>within an hour</td>\n",
       "      <td>100%</td>\n",
       "      <td>f</td>\n",
       "      <td>t</td>\n",
       "      <td>City Island</td>\n",
       "      <td>40.849191</td>\n",
       "      <td>-73.786509</td>\n",
       "      <td>f</td>\n",
       "      <td>House</td>\n",
       "      <td>...</td>\n",
       "      <td>21</td>\n",
       "      <td>2 weeks ago</td>\n",
       "      <td>19</td>\n",
       "      <td>2</td>\n",
       "      <td>100.0</td>\n",
       "      <td>f</td>\n",
       "      <td>f</td>\n",
       "      <td>moderate</td>\n",
       "      <td>f</td>\n",
       "      <td>2.00</td>\n",
       "    </tr>\n",
       "    <tr>\n",
       "      <th>2</th>\n",
       "      <td>6627449</td>\n",
       "      <td>within an hour</td>\n",
       "      <td>100%</td>\n",
       "      <td>f</td>\n",
       "      <td>t</td>\n",
       "      <td>City Island</td>\n",
       "      <td>40.849775</td>\n",
       "      <td>-73.786609</td>\n",
       "      <td>t</td>\n",
       "      <td>Apartment</td>\n",
       "      <td>...</td>\n",
       "      <td>21</td>\n",
       "      <td>2 weeks ago</td>\n",
       "      <td>28</td>\n",
       "      <td>21</td>\n",
       "      <td>95.0</td>\n",
       "      <td>f</td>\n",
       "      <td>f</td>\n",
       "      <td>strict</td>\n",
       "      <td>f</td>\n",
       "      <td>0.77</td>\n",
       "    </tr>\n",
       "    <tr>\n",
       "      <th>3</th>\n",
       "      <td>19949243</td>\n",
       "      <td>within a few hours</td>\n",
       "      <td>100%</td>\n",
       "      <td>f</td>\n",
       "      <td>t</td>\n",
       "      <td>City Island</td>\n",
       "      <td>40.848838</td>\n",
       "      <td>-73.782276</td>\n",
       "      <td>f</td>\n",
       "      <td>Boat</td>\n",
       "      <td>...</td>\n",
       "      <td>1125</td>\n",
       "      <td>6 days ago</td>\n",
       "      <td>30</td>\n",
       "      <td>0</td>\n",
       "      <td>NaN</td>\n",
       "      <td>t</td>\n",
       "      <td>f</td>\n",
       "      <td>strict</td>\n",
       "      <td>f</td>\n",
       "      <td>NaN</td>\n",
       "    </tr>\n",
       "    <tr>\n",
       "      <th>4</th>\n",
       "      <td>1886820</td>\n",
       "      <td>NaN</td>\n",
       "      <td>NaN</td>\n",
       "      <td>f</td>\n",
       "      <td>t</td>\n",
       "      <td>City Island</td>\n",
       "      <td>40.841144</td>\n",
       "      <td>-73.783052</td>\n",
       "      <td>t</td>\n",
       "      <td>House</td>\n",
       "      <td>...</td>\n",
       "      <td>90</td>\n",
       "      <td>16 months ago</td>\n",
       "      <td>30</td>\n",
       "      <td>0</td>\n",
       "      <td>NaN</td>\n",
       "      <td>f</td>\n",
       "      <td>f</td>\n",
       "      <td>strict</td>\n",
       "      <td>f</td>\n",
       "      <td>NaN</td>\n",
       "    </tr>\n",
       "  </tbody>\n",
       "</table>\n",
       "<p>5 rows × 31 columns</p>\n",
       "</div>"
      ],
      "text/plain": [
       "         id  host_response_time host_response_rate host_is_superhost  \\\n",
       "0  18461891                 NaN                NaN                 f   \n",
       "1  20702398      within an hour               100%                 f   \n",
       "2   6627449      within an hour               100%                 f   \n",
       "3  19949243  within a few hours               100%                 f   \n",
       "4   1886820                 NaN                NaN                 f   \n",
       "\n",
       "  host_has_profile_pic neighbourhood_cleansed   latitude  longitude  \\\n",
       "0                    t       Ditmars Steinway  40.774142 -73.916246   \n",
       "1                    t            City Island  40.849191 -73.786509   \n",
       "2                    t            City Island  40.849775 -73.786609   \n",
       "3                    t            City Island  40.848838 -73.782276   \n",
       "4                    t            City Island  40.841144 -73.783052   \n",
       "\n",
       "  is_location_exact property_type        ...         maximum_nights  \\\n",
       "0                 t     Apartment        ...                      6   \n",
       "1                 f         House        ...                     21   \n",
       "2                 t     Apartment        ...                     21   \n",
       "3                 f          Boat        ...                   1125   \n",
       "4                 t         House        ...                     90   \n",
       "\n",
       "   calendar_updated  availability_30  number_of_reviews  review_scores_rating  \\\n",
       "0      5 months ago                0                  0                   NaN   \n",
       "1       2 weeks ago               19                  2                 100.0   \n",
       "2       2 weeks ago               28                 21                  95.0   \n",
       "3        6 days ago               30                  0                   NaN   \n",
       "4     16 months ago               30                  0                   NaN   \n",
       "\n",
       "  instant_bookable is_business_travel_ready  cancellation_policy  \\\n",
       "0                f                        f               strict   \n",
       "1                f                        f             moderate   \n",
       "2                f                        f               strict   \n",
       "3                t                        f               strict   \n",
       "4                f                        f               strict   \n",
       "\n",
       "   require_guest_profile_picture  reviews_per_month  \n",
       "0                              f                NaN  \n",
       "1                              f               2.00  \n",
       "2                              f               0.77  \n",
       "3                              f                NaN  \n",
       "4                              f                NaN  \n",
       "\n",
       "[5 rows x 31 columns]"
      ]
     },
     "execution_count": 3,
     "metadata": {},
     "output_type": "execute_result"
    }
   ],
   "source": [
    "df.head()"
   ]
  },
  {
   "cell_type": "code",
   "execution_count": 4,
   "metadata": {},
   "outputs": [
    {
     "data": {
      "text/html": [
       "<div>\n",
       "<style>\n",
       "    .dataframe thead tr:only-child th {\n",
       "        text-align: right;\n",
       "    }\n",
       "\n",
       "    .dataframe thead th {\n",
       "        text-align: left;\n",
       "    }\n",
       "\n",
       "    .dataframe tbody tr th {\n",
       "        vertical-align: top;\n",
       "    }\n",
       "</style>\n",
       "<table border=\"1\" class=\"dataframe\">\n",
       "  <thead>\n",
       "    <tr style=\"text-align: right;\">\n",
       "      <th></th>\n",
       "      <th>id</th>\n",
       "      <th>latitude</th>\n",
       "      <th>longitude</th>\n",
       "      <th>accommodates</th>\n",
       "      <th>bathrooms</th>\n",
       "      <th>bedrooms</th>\n",
       "      <th>beds</th>\n",
       "      <th>square_feet</th>\n",
       "      <th>price</th>\n",
       "      <th>guests_included</th>\n",
       "      <th>minimum_nights</th>\n",
       "      <th>maximum_nights</th>\n",
       "      <th>availability_30</th>\n",
       "      <th>number_of_reviews</th>\n",
       "      <th>review_scores_rating</th>\n",
       "      <th>reviews_per_month</th>\n",
       "    </tr>\n",
       "  </thead>\n",
       "  <tbody>\n",
       "    <tr>\n",
       "      <th>count</th>\n",
       "      <td>4.431700e+04</td>\n",
       "      <td>44317.000000</td>\n",
       "      <td>44317.000000</td>\n",
       "      <td>44317.000000</td>\n",
       "      <td>44173.000000</td>\n",
       "      <td>44244.000000</td>\n",
       "      <td>44226.000000</td>\n",
       "      <td>549.000000</td>\n",
       "      <td>44317.000000</td>\n",
       "      <td>44317.000000</td>\n",
       "      <td>44317.000000</td>\n",
       "      <td>4.431700e+04</td>\n",
       "      <td>44317.000000</td>\n",
       "      <td>44317.000000</td>\n",
       "      <td>34218.000000</td>\n",
       "      <td>34843.000000</td>\n",
       "    </tr>\n",
       "    <tr>\n",
       "      <th>mean</th>\n",
       "      <td>1.149792e+07</td>\n",
       "      <td>40.730049</td>\n",
       "      <td>-73.954700</td>\n",
       "      <td>2.813255</td>\n",
       "      <td>1.132739</td>\n",
       "      <td>1.158892</td>\n",
       "      <td>1.555895</td>\n",
       "      <td>727.732240</td>\n",
       "      <td>147.675948</td>\n",
       "      <td>1.482388</td>\n",
       "      <td>4.008665</td>\n",
       "      <td>6.421371e+04</td>\n",
       "      <td>5.904484</td>\n",
       "      <td>18.145836</td>\n",
       "      <td>93.487492</td>\n",
       "      <td>1.446368</td>\n",
       "    </tr>\n",
       "    <tr>\n",
       "      <th>std</th>\n",
       "      <td>6.494719e+06</td>\n",
       "      <td>0.053905</td>\n",
       "      <td>0.042382</td>\n",
       "      <td>1.853114</td>\n",
       "      <td>0.412206</td>\n",
       "      <td>0.721120</td>\n",
       "      <td>1.071849</td>\n",
       "      <td>633.253518</td>\n",
       "      <td>209.138888</td>\n",
       "      <td>1.090597</td>\n",
       "      <td>12.574811</td>\n",
       "      <td>1.049199e+07</td>\n",
       "      <td>9.099126</td>\n",
       "      <td>33.066623</td>\n",
       "      <td>8.209607</td>\n",
       "      <td>1.638707</td>\n",
       "    </tr>\n",
       "    <tr>\n",
       "      <th>min</th>\n",
       "      <td>2.515000e+03</td>\n",
       "      <td>40.499794</td>\n",
       "      <td>-74.253269</td>\n",
       "      <td>1.000000</td>\n",
       "      <td>0.000000</td>\n",
       "      <td>0.000000</td>\n",
       "      <td>0.000000</td>\n",
       "      <td>0.000000</td>\n",
       "      <td>0.000000</td>\n",
       "      <td>1.000000</td>\n",
       "      <td>1.000000</td>\n",
       "      <td>1.000000e+00</td>\n",
       "      <td>0.000000</td>\n",
       "      <td>0.000000</td>\n",
       "      <td>20.000000</td>\n",
       "      <td>0.010000</td>\n",
       "    </tr>\n",
       "    <tr>\n",
       "      <th>25%</th>\n",
       "      <td>6.029332e+06</td>\n",
       "      <td>40.691219</td>\n",
       "      <td>-73.983490</td>\n",
       "      <td>2.000000</td>\n",
       "      <td>1.000000</td>\n",
       "      <td>1.000000</td>\n",
       "      <td>1.000000</td>\n",
       "      <td>325.000000</td>\n",
       "      <td>70.000000</td>\n",
       "      <td>1.000000</td>\n",
       "      <td>1.000000</td>\n",
       "      <td>2.900000e+01</td>\n",
       "      <td>0.000000</td>\n",
       "      <td>1.000000</td>\n",
       "      <td>90.000000</td>\n",
       "      <td>0.270000</td>\n",
       "    </tr>\n",
       "    <tr>\n",
       "      <th>50%</th>\n",
       "      <td>1.226806e+07</td>\n",
       "      <td>40.723624</td>\n",
       "      <td>-73.956728</td>\n",
       "      <td>2.000000</td>\n",
       "      <td>1.000000</td>\n",
       "      <td>1.000000</td>\n",
       "      <td>1.000000</td>\n",
       "      <td>700.000000</td>\n",
       "      <td>105.000000</td>\n",
       "      <td>1.000000</td>\n",
       "      <td>2.000000</td>\n",
       "      <td>1.125000e+03</td>\n",
       "      <td>0.000000</td>\n",
       "      <td>5.000000</td>\n",
       "      <td>96.000000</td>\n",
       "      <td>0.870000</td>\n",
       "    </tr>\n",
       "    <tr>\n",
       "      <th>75%</th>\n",
       "      <td>1.736896e+07</td>\n",
       "      <td>40.764029</td>\n",
       "      <td>-73.939366</td>\n",
       "      <td>4.000000</td>\n",
       "      <td>1.000000</td>\n",
       "      <td>1.000000</td>\n",
       "      <td>2.000000</td>\n",
       "      <td>925.000000</td>\n",
       "      <td>175.000000</td>\n",
       "      <td>2.000000</td>\n",
       "      <td>4.000000</td>\n",
       "      <td>1.125000e+03</td>\n",
       "      <td>9.000000</td>\n",
       "      <td>20.000000</td>\n",
       "      <td>100.000000</td>\n",
       "      <td>2.100000</td>\n",
       "    </tr>\n",
       "    <tr>\n",
       "      <th>max</th>\n",
       "      <td>2.117803e+07</td>\n",
       "      <td>40.909174</td>\n",
       "      <td>-73.710126</td>\n",
       "      <td>16.000000</td>\n",
       "      <td>15.500000</td>\n",
       "      <td>14.000000</td>\n",
       "      <td>40.000000</td>\n",
       "      <td>5000.000000</td>\n",
       "      <td>10000.000000</td>\n",
       "      <td>16.000000</td>\n",
       "      <td>1250.000000</td>\n",
       "      <td>2.147484e+09</td>\n",
       "      <td>30.000000</td>\n",
       "      <td>489.000000</td>\n",
       "      <td>100.000000</td>\n",
       "      <td>24.530000</td>\n",
       "    </tr>\n",
       "  </tbody>\n",
       "</table>\n",
       "</div>"
      ],
      "text/plain": [
       "                 id      latitude     longitude  accommodates     bathrooms  \\\n",
       "count  4.431700e+04  44317.000000  44317.000000  44317.000000  44173.000000   \n",
       "mean   1.149792e+07     40.730049    -73.954700      2.813255      1.132739   \n",
       "std    6.494719e+06      0.053905      0.042382      1.853114      0.412206   \n",
       "min    2.515000e+03     40.499794    -74.253269      1.000000      0.000000   \n",
       "25%    6.029332e+06     40.691219    -73.983490      2.000000      1.000000   \n",
       "50%    1.226806e+07     40.723624    -73.956728      2.000000      1.000000   \n",
       "75%    1.736896e+07     40.764029    -73.939366      4.000000      1.000000   \n",
       "max    2.117803e+07     40.909174    -73.710126     16.000000     15.500000   \n",
       "\n",
       "           bedrooms          beds  square_feet         price  guests_included  \\\n",
       "count  44244.000000  44226.000000   549.000000  44317.000000     44317.000000   \n",
       "mean       1.158892      1.555895   727.732240    147.675948         1.482388   \n",
       "std        0.721120      1.071849   633.253518    209.138888         1.090597   \n",
       "min        0.000000      0.000000     0.000000      0.000000         1.000000   \n",
       "25%        1.000000      1.000000   325.000000     70.000000         1.000000   \n",
       "50%        1.000000      1.000000   700.000000    105.000000         1.000000   \n",
       "75%        1.000000      2.000000   925.000000    175.000000         2.000000   \n",
       "max       14.000000     40.000000  5000.000000  10000.000000        16.000000   \n",
       "\n",
       "       minimum_nights  maximum_nights  availability_30  number_of_reviews  \\\n",
       "count    44317.000000    4.431700e+04     44317.000000       44317.000000   \n",
       "mean         4.008665    6.421371e+04         5.904484          18.145836   \n",
       "std         12.574811    1.049199e+07         9.099126          33.066623   \n",
       "min          1.000000    1.000000e+00         0.000000           0.000000   \n",
       "25%          1.000000    2.900000e+01         0.000000           1.000000   \n",
       "50%          2.000000    1.125000e+03         0.000000           5.000000   \n",
       "75%          4.000000    1.125000e+03         9.000000          20.000000   \n",
       "max       1250.000000    2.147484e+09        30.000000         489.000000   \n",
       "\n",
       "       review_scores_rating  reviews_per_month  \n",
       "count          34218.000000       34843.000000  \n",
       "mean              93.487492           1.446368  \n",
       "std                8.209607           1.638707  \n",
       "min               20.000000           0.010000  \n",
       "25%               90.000000           0.270000  \n",
       "50%               96.000000           0.870000  \n",
       "75%              100.000000           2.100000  \n",
       "max              100.000000          24.530000  "
      ]
     },
     "execution_count": 4,
     "metadata": {},
     "output_type": "execute_result"
    }
   ],
   "source": [
    "df.describe()"
   ]
  },
  {
   "cell_type": "markdown",
   "metadata": {},
   "source": [
    "## Create Monthly Revenue: Price Multiplied by Number of Days Occupied \n",
    "Revenue per available room (RevPAR) is a performance metric used in the hotel industry. It is calculated by multiplying a hotel's average daily room rate (ADR) by its occupancy rate. \n",
    "\n",
    "To calculate occupancy rate: The column in our dataset is called availability_30 and it stands for how many days the room is available in the next 30 days. So if a room is available 14 days, that means the room is occupied for 16 days (30-14). "
   ]
  },
  {
   "cell_type": "code",
   "execution_count": 5,
   "metadata": {
    "collapsed": true
   },
   "outputs": [],
   "source": [
    "df[\"RevPAR\"] = (df['price'] * (30 - df['availability_30']))\n",
    "\n",
    "\n"
   ]
  },
  {
   "cell_type": "markdown",
   "metadata": {},
   "source": [
    "## Amenities\n",
    "There is a column called amenities, which I care about in this project. As you can see below, they are all in one column and it looks pretty messy so I need to clean it."
   ]
  },
  {
   "cell_type": "code",
   "execution_count": 6,
   "metadata": {},
   "outputs": [
    {
     "data": {
      "text/plain": [
       "'{TV,\"Wireless Internet\",\"Air conditioning\",Kitchen,\"Smoke detector\",\"Carbon monoxide detector\",\"First aid kit\",\"Safety card\",Essentials,\"Hair dryer\",\"translation missing: en.hosting_amenity_49\",\"translation missing: en.hosting_amenity_50\"}'"
      ]
     },
     "execution_count": 6,
     "metadata": {},
     "output_type": "execute_result"
    }
   ],
   "source": [
    "df['amenities'][0]"
   ]
  },
  {
   "cell_type": "markdown",
   "metadata": {},
   "source": [
    "## Remove all non-letter characters from amenities column\n"
   ]
  },
  {
   "cell_type": "code",
   "execution_count": 7,
   "metadata": {},
   "outputs": [
    {
     "name": "stdout",
     "output_type": "stream",
     "text": [
      " TV Wireless Internet Air conditioning Kitchen Smoke detector Carbon monoxide detector First aid kit Safety card Essentials Hair dryer translation missing en hosting_amenity_49 translation missing en hosting_amenity_50 \n"
     ]
    }
   ],
   "source": [
    "sc_sub = re.compile('\\W+')\n",
    "df['amenities'] = [sc_sub.sub(' ', amenity) for amenity in df['amenities']]\n",
    "print(df['amenities'][0])"
   ]
  },
  {
   "cell_type": "markdown",
   "metadata": {},
   "source": [
    "## Transform each amenity into a binary feature "
   ]
  },
  {
   "cell_type": "code",
   "execution_count": 8,
   "metadata": {
    "collapsed": true
   },
   "outputs": [],
   "source": [
    "amenities2 = ['Wireless Internet', 'Air conditioning', 'Pool', 'Kitchen',\n",
    "       'Free parking on premises', 'Gym', 'Hot tub', 'Indoor fireplace',\n",
    "       'Heating', 'Family kid friendly', 'Suitable for events', 'Washer',\n",
    "       'Dryer', 'Essentials', 'Shampoo', 'Lock on bedroom door', 'Cable TV',\n",
    "       '24 hour check in', 'Laptop friendly workspace', 'Hair dryer']\n",
    "for amenity in amenities2:\n",
    "    df[amenity] = df.amenities.str.contains(amenity)"
   ]
  },
  {
   "cell_type": "markdown",
   "metadata": {},
   "source": [
    "## What is the relationship between price and occupancy rate?\n"
   ]
  },
  {
   "cell_type": "code",
   "execution_count": 9,
   "metadata": {},
   "outputs": [
    {
     "data": {
      "image/png": "[encoded data removed]",
      "text/plain": [
       "<matplotlib.figure.Figure at 0x1a732409630>"
      ]
     },
     "metadata": {},
     "output_type": "display_data"
    }
   ],
   "source": [
    "import matplotlib.pyplot as plt\n",
    "import seaborn as sns\n",
    "sns.set(style=\"ticks\")\n",
    "\n",
    "# Show the results of a linear regression within each dataset\n",
    "sns.lmplot(x=\"availability_30\", y=\"price\", data=df)\n",
    "plt.show()\n"
   ]
  },
  {
   "cell_type": "markdown",
   "metadata": {},
   "source": [
    "There is no relationship between price and occupancy rate. There are rooms that are cheap and always occupied, and there are rooms that are cheap and never occupied. This means that customers are not booking strictly based on price, which means hosts have to differentiate themselves in other ways.\n"
   ]
  },
  {
   "cell_type": "markdown",
   "metadata": {},
   "source": [
    "## Relationship between RevPAR and Occupancy Rate"
   ]
  },
  {
   "cell_type": "code",
   "execution_count": 10,
   "metadata": {},
   "outputs": [
    {
     "data": {
      "image/png": "[encoded data removed]",
      "text/plain": [
       "<matplotlib.figure.Figure at 0x1a72fe1b6d8>"
      ]
     },
     "metadata": {},
     "output_type": "display_data"
    }
   ],
   "source": [
    "# Show the results of a linear regression within each dataset\n",
    "sns.lmplot(x=\"availability_30\", y=\"RevPAR\", data=df)\n",
    "plt.show()"
   ]
  },
  {
   "cell_type": "markdown",
   "metadata": {},
   "source": [
    "RevPAR decreases as availability increases, however I notice that there are potential outliers, so I will test that out."
   ]
  },
  {
   "cell_type": "markdown",
   "metadata": {},
   "source": [
    "## Remove Outliers\n",
    "Remove points that are more than 3 standard deviations from the mean"
   ]
  },
  {
   "cell_type": "code",
   "execution_count": 11,
   "metadata": {
    "collapsed": true
   },
   "outputs": [],
   "source": [
    "import numpy as np\n",
    "df = df[np.abs(df.RevPAR-df.RevPAR.mean())<=(3*df.RevPAR.std())]"
   ]
  },
  {
   "cell_type": "markdown",
   "metadata": {},
   "source": [
    "## Relationship between price and quantity after outlier removal"
   ]
  },
  {
   "cell_type": "code",
   "execution_count": 12,
   "metadata": {},
   "outputs": [
    {
     "data": {
      "image/png": "[encoded data removed]",
      "text/plain": [
       "<matplotlib.figure.Figure at 0x1a7324fc240>"
      ]
     },
     "metadata": {},
     "output_type": "display_data"
    }
   ],
   "source": [
    "# Show the results of a linear regression within each dataset\n",
    "sns.lmplot(x=\"availability_30\", y=\"price\", data=df)\n",
    "plt.show()\n",
    "\n"
   ]
  },
  {
   "cell_type": "markdown",
   "metadata": {},
   "source": [
    "## Relationship between RevPAR and Occupancy Rate after outlier removal\n",
    "We can see the relationship between the two more clearly now and we can definitely say that RevPAR decreases as availability increases\n"
   ]
  },
  {
   "cell_type": "code",
   "execution_count": 13,
   "metadata": {},
   "outputs": [
    {
     "data": {
      "image/png": "[encoded data removed]",
      "text/plain": [
       "<matplotlib.figure.Figure at 0x1a732697780>"
      ]
     },
     "metadata": {},
     "output_type": "display_data"
    }
   ],
   "source": [
    "# Show the results of a linear regression within each dataset\n",
    "sns.lmplot(x=\"availability_30\", y=\"RevPAR\", data=df)\n",
    "plt.show()"
   ]
  },
  {
   "cell_type": "markdown",
   "metadata": {},
   "source": [
    "## Average Revenue Per Month\n",
    "### Exploring our target variable\n"
   ]
  },
  {
   "cell_type": "code",
   "execution_count": 14,
   "metadata": {},
   "outputs": [
    {
     "name": "stdout",
     "output_type": "stream",
     "text": [
      "Average Monthly Revenue: 3185.1005370471507\n",
      "Median Monthly Revenue: 2550.0\n"
     ]
    }
   ],
   "source": [
    "print(\"Average Monthly Revenue:\", df[\"RevPAR\"].mean())\n",
    "print(\"Median Monthly Revenue:\", df[\"RevPAR\"].median())"
   ]
  },
  {
   "cell_type": "markdown",
   "metadata": {},
   "source": [
    "## Create binary target variable\n",
    "I will create a binary variable to turn this into a classification problem."
   ]
  },
  {
   "cell_type": "code",
   "execution_count": 15,
   "metadata": {
    "collapsed": true
   },
   "outputs": [],
   "source": [
    "# Rooms that make more than the average monthly revenue will be labeled as 1 (Successful),\n",
    "# whereas rooms that earn less will be labeled as 0 (Not Successful)\n",
    "AverageRevPAR = df[\"RevPAR\"].mean()\n",
    "df[\"Successful\"] = [1 if x >= AverageRevPAR else 0 for x in df[\"RevPAR\"]]"
   ]
  },
  {
   "cell_type": "markdown",
   "metadata": {},
   "source": [
    "## Check for columns with a lot of missing values"
   ]
  },
  {
   "cell_type": "code",
   "execution_count": 16,
   "metadata": {
    "scrolled": true
   },
   "outputs": [
    {
     "data": {
      "text/plain": [
       "id                                   0\n",
       "host_response_time               13493\n",
       "host_response_rate               13493\n",
       "host_is_superhost                  231\n",
       "host_has_profile_pic               231\n",
       "neighbourhood_cleansed               0\n",
       "latitude                             0\n",
       "longitude                            0\n",
       "is_location_exact                    0\n",
       "property_type                        0\n",
       "room_type                            0\n",
       "accommodates                         0\n",
       "bathrooms                          142\n",
       "bedrooms                            73\n",
       "beds                                89\n",
       "bed_type                             0\n",
       "amenities                            0\n",
       "square_feet                      43406\n",
       "price                                0\n",
       "guests_included                      0\n",
       "minimum_nights                       0\n",
       "maximum_nights                       0\n",
       "calendar_updated                     0\n",
       "availability_30                      0\n",
       "number_of_reviews                    0\n",
       "review_scores_rating              9915\n",
       "instant_bookable                     0\n",
       "is_business_travel_ready             0\n",
       "cancellation_policy                  0\n",
       "require_guest_profile_picture        0\n",
       "reviews_per_month                 9296\n",
       "RevPAR                               0\n",
       "Wireless Internet                    0\n",
       "Air conditioning                     0\n",
       "Pool                                 0\n",
       "Kitchen                              0\n",
       "Free parking on premises             0\n",
       "Gym                                  0\n",
       "Hot tub                              0\n",
       "Indoor fireplace                     0\n",
       "Heating                              0\n",
       "Family kid friendly                  0\n",
       "Suitable for events                  0\n",
       "Washer                               0\n",
       "Dryer                                0\n",
       "Essentials                           0\n",
       "Shampoo                              0\n",
       "Lock on bedroom door                 0\n",
       "Cable TV                             0\n",
       "24 hour check in                     0\n",
       "Laptop friendly workspace            0\n",
       "Hair dryer                           0\n",
       "Successful                           0\n",
       "dtype: int64"
      ]
     },
     "execution_count": 16,
     "metadata": {},
     "output_type": "execute_result"
    }
   ],
   "source": [
    "df.isnull().sum()"
   ]
  },
  {
   "cell_type": "markdown",
   "metadata": {},
   "source": [
    "## Does an amenity contribute to how Successful a room is?"
   ]
  },
  {
   "cell_type": "code",
   "execution_count": 17,
   "metadata": {},
   "outputs": [
    {
     "name": "stdout",
     "output_type": "stream",
     "text": [
      "Wireless Internet\n",
      "False    0.276891\n",
      "True     0.393549\n",
      "Name: Successful, dtype: float64\n",
      "Air conditioning\n",
      "False    0.198933\n",
      "True     0.426632\n",
      "Name: Successful, dtype: float64\n",
      "Pool\n",
      "False    0.388358\n",
      "True     0.513570\n",
      "Name: Successful, dtype: float64\n",
      "Kitchen\n",
      "False    0.222676\n",
      "True     0.402772\n",
      "Name: Successful, dtype: float64\n",
      "Free parking on premises\n",
      "False    0.404931\n",
      "True     0.250058\n",
      "Name: Successful, dtype: float64\n",
      "Gym\n",
      "False    0.377902\n",
      "True     0.540338\n",
      "Name: Successful, dtype: float64\n",
      "Hot tub\n",
      "False    0.390215\n",
      "True     0.379205\n",
      "Name: Successful, dtype: float64\n",
      "Indoor fireplace\n",
      "False    0.384904\n",
      "True     0.515058\n",
      "Name: Successful, dtype: float64\n",
      "Heating\n",
      "False    0.262085\n",
      "True     0.401899\n",
      "Name: Successful, dtype: float64\n",
      "Family kid friendly\n",
      "False    0.295522\n",
      "True     0.522175\n",
      "Name: Successful, dtype: float64\n",
      "Suitable for events\n",
      "False    0.388156\n",
      "True     0.424434\n",
      "Name: Successful, dtype: float64\n",
      "Washer\n",
      "False    0.348821\n",
      "True     0.456334\n",
      "Name: Successful, dtype: float64\n",
      "Dryer\n",
      "False    0.347623\n",
      "True     0.459666\n",
      "Name: Successful, dtype: float64\n",
      "Essentials\n",
      "False    0.335133\n",
      "True     0.399167\n",
      "Name: Successful, dtype: float64\n",
      "Shampoo\n",
      "False    0.338531\n",
      "True     0.425522\n",
      "Name: Successful, dtype: float64\n",
      "Lock on bedroom door\n",
      "False    0.438621\n",
      "True     0.246854\n",
      "Name: Successful, dtype: float64\n",
      "24 hour check in\n",
      "False    0.372721\n",
      "True     0.466491\n",
      "Name: Successful, dtype: float64\n",
      "Laptop friendly workspace\n",
      "False    0.355878\n",
      "True     0.418430\n",
      "Name: Successful, dtype: float64\n",
      "Hair dryer\n",
      "False    0.343862\n",
      "True     0.429073\n",
      "Name: Successful, dtype: float64\n",
      "is_business_travel_ready\n",
      "f    0.363839\n",
      "t    0.738872\n",
      "Name: Successful, dtype: float64\n"
     ]
    }
   ],
   "source": [
    "Exploratory_Analysis = ['Wireless Internet', 'Air conditioning', 'Pool', 'Kitchen',\n",
    "       'Free parking on premises', 'Gym', 'Hot tub', 'Indoor fireplace',\n",
    "       'Heating', 'Family kid friendly', 'Suitable for events', 'Washer',\n",
    "       'Dryer', 'Essentials', 'Shampoo', 'Lock on bedroom door',\n",
    "       '24 hour check in', 'Laptop friendly workspace', 'Hair dryer','is_business_travel_ready']\n",
    "for r in Exploratory_Analysis :\n",
    "    print(df.groupby(r)['Successful'].mean())"
   ]
  },
  {
   "cell_type": "markdown",
   "metadata": {},
   "source": [
    "## Replace missing values with 0\n",
    "I'm doing this because when I manually checked rentals and if they had not received any reviews or ratings, it is recorded as null in this dataset."
   ]
  },
  {
   "cell_type": "code",
   "execution_count": 18,
   "metadata": {
    "collapsed": true
   },
   "outputs": [],
   "source": [
    "df['number_of_reviews'].fillna(0, inplace=True)\n",
    "df['review_scores_rating'].fillna(0, inplace=True)\n",
    "df['reviews_per_month'].fillna(0, inplace=True)"
   ]
  },
  {
   "cell_type": "markdown",
   "metadata": {},
   "source": [
    "## Drop columns that won't be used for modeling\n",
    "\n",
    "__ I tested different models, and saw that adding more and more features was not necessarily a good thing.__\n",
    "\n",
    "<br> __Columns that were transformed in some way:__ amenities, price, weekly_price, avaialability_30, RevPAR\n",
    "<br> __Columns that won't be used do to large number of missing variables__: review_scores_accuracy, \"review_scores_cleanliness\",\"review_scores_checkin\", \n",
    "\"review_scores_communication\", \"review_scores_location\", \"review_scores_value\",\n",
    "<br>__Features that cannot be modeled__: latitude, longitude, id\n",
    "<br>__Features excluded that make model worse__: cleaning fee, security_deposit, \"host_has_profile_pic\",'bathrooms','bedrooms','beds','accommodates','square_feet','guests_included','minimum_nights','maximum_nights'\n"
   ]
  },
  {
   "cell_type": "code",
   "execution_count": 20,
   "metadata": {},
   "outputs": [],
   "source": [
    "df.drop([\"amenities\",\"id\",\"price\",\"weekly_price\", \n",
    "         \"availability_30\", \"review_scores_accuracy\", \"review_scores_cleanliness\",\"review_scores_checkin\", \n",
    "         \"review_scores_communication\", \"review_scores_location\", \"review_scores_value\",\n",
    "         \"cleaning_fee\", \"security_deposit\",\n",
    "         \"host_has_profile_pic\",'bathrooms','bedrooms','beds', 'latitude','longitude',\n",
    "        'accommodates','square_feet','guests_included','minimum_nights','maximum_nights'], axis=1, inplace = True)"
   ]
  },
  {
   "cell_type": "markdown",
   "metadata": {},
   "source": [
    "## Establish features to be used and target variable"
   ]
  },
  {
   "cell_type": "code",
   "execution_count": 21,
   "metadata": {
    "collapsed": true
   },
   "outputs": [],
   "source": [
    "X = df[[\n",
    "        'is_location_exact',\n",
    "       'bed_type',\n",
    "        'number_of_reviews',\n",
    "       'instant_bookable', 'cancellation_policy', 'Wireless Internet',\n",
    "       'Air conditioning', 'Pool', 'Kitchen', 'Free parking on premises',\n",
    "       'Gym', 'Hot tub', 'Indoor fireplace', 'Heating', 'Family kid friendly',\n",
    "       'Suitable for events', 'Washer', 'Dryer', 'Essentials', 'Shampoo', 'Cable TV',\n",
    "       'Lock on bedroom door', '24 hour check in', 'Laptop friendly workspace',\n",
    "       'Hair dryer','is_business_travel_ready','number_of_reviews','review_scores_rating','reviews_per_month']]\n",
    "\n",
    "y = df[\"Successful\"]"
   ]
  },
  {
   "cell_type": "markdown",
   "metadata": {},
   "source": [
    "## Check for missing values to be sure "
   ]
  },
  {
   "cell_type": "code",
   "execution_count": 22,
   "metadata": {
    "scrolled": true
   },
   "outputs": [
    {
     "data": {
      "text/plain": [
       "is_location_exact            0\n",
       "bed_type                     0\n",
       "number_of_reviews            0\n",
       "instant_bookable             0\n",
       "cancellation_policy          0\n",
       "Wireless Internet            0\n",
       "Air conditioning             0\n",
       "Pool                         0\n",
       "Kitchen                      0\n",
       "Free parking on premises     0\n",
       "Gym                          0\n",
       "Hot tub                      0\n",
       "Indoor fireplace             0\n",
       "Heating                      0\n",
       "Family kid friendly          0\n",
       "Suitable for events          0\n",
       "Washer                       0\n",
       "Dryer                        0\n",
       "Essentials                   0\n",
       "Shampoo                      0\n",
       "Cable TV                     0\n",
       "Lock on bedroom door         0\n",
       "24 hour check in             0\n",
       "Laptop friendly workspace    0\n",
       "Hair dryer                   0\n",
       "is_business_travel_ready     0\n",
       "number_of_reviews            0\n",
       "review_scores_rating         0\n",
       "reviews_per_month            0\n",
       "dtype: int64"
      ]
     },
     "execution_count": 22,
     "metadata": {},
     "output_type": "execute_result"
    }
   ],
   "source": [
    "X.isnull().sum()"
   ]
  },
  {
   "cell_type": "markdown",
   "metadata": {},
   "source": [
    "## Correlation Analysis\n",
    "Machine learning algorithms like linear and logistic regression can have poor performance if there are highly correlated input variables in your data."
   ]
  },
  {
   "cell_type": "code",
   "execution_count": 23,
   "metadata": {},
   "outputs": [
    {
     "data": {
      "text/plain": [
       "latitude                     0.063195\n",
       "longitude                   -0.303294\n",
       "accommodates                 0.369106\n",
       "bathrooms                    0.045321\n",
       "bedrooms                     0.182578\n",
       "beds                         0.270575\n",
       "square_feet                  0.255793\n",
       "price                        0.347332\n",
       "guests_included              0.238956\n",
       "minimum_nights              -0.011034\n",
       "maximum_nights               0.004659\n",
       "availability_30             -0.338477\n",
       "number_of_reviews            0.011391\n",
       "review_scores_rating         0.041396\n",
       "reviews_per_month           -0.040757\n",
       "RevPAR                       0.766692\n",
       "Wireless Internet            0.042600\n",
       "Air conditioning             0.172067\n",
       "Pool                         0.026659\n",
       "Kitchen                      0.095734\n",
       "Free parking on premises    -0.094500\n",
       "Gym                          0.086521\n",
       "Hot tub                     -0.004663\n",
       "Indoor fireplace             0.050393\n",
       "Heating                      0.080836\n",
       "Family kid friendly          0.229042\n",
       "Suitable for events          0.015126\n",
       "Washer                       0.107030\n",
       "Dryer                        0.111268\n",
       "Essentials                   0.046558\n",
       "Shampoo                      0.087780\n",
       "Lock on bedroom door        -0.171384\n",
       "Cable TV                     0.169448\n",
       "24 hour check in             0.074081\n",
       "Laptop friendly workspace    0.063914\n",
       "Hair dryer                   0.087106\n",
       "Name: Successful, dtype: float64"
      ]
     },
     "execution_count": 23,
     "metadata": {},
     "output_type": "execute_result"
    }
   ],
   "source": [
    "df[df.columns[1:]].corr()['Successful'][:-1]"
   ]
  },
  {
   "cell_type": "markdown",
   "metadata": {},
   "source": [
    "## Prepare data for modeling by turning categorical variables into dummy variables"
   ]
  },
  {
   "cell_type": "code",
   "execution_count": 24,
   "metadata": {
    "collapsed": true
   },
   "outputs": [],
   "source": [
    "X_train1 = pd.get_dummies(X)"
   ]
  },
  {
   "cell_type": "markdown",
   "metadata": {},
   "source": [
    "## Logistic Regression "
   ]
  },
  {
   "cell_type": "code",
   "execution_count": 25,
   "metadata": {},
   "outputs": [
    {
     "name": "stderr",
     "output_type": "stream",
     "text": [
      "C:\\Users\\Antonio\\Anaconda3\\lib\\site-packages\\sklearn\\cross_validation.py:44: DeprecationWarning: This module was deprecated in version 0.18 in favor of the model_selection module into which all the refactored classes and functions are moved. Also note that the interface of the new CV iterators are different from that of this module. This module will be removed in 0.20.\n",
      "  \"This module will be removed in 0.20.\", DeprecationWarning)\n"
     ]
    },
    {
     "name": "stdout",
     "output_type": "stream",
     "text": [
      "Results:\n",
      "Accuracy 0.6941561987984708\n",
      "Specificity: 0.8321573337336736\n",
      "False Positive Rate: 0.16784266626632638\n",
      "Precision: 0.6507341455795064\n",
      "Recall: 0.48161849710982657\n",
      "-----------------------------------------------------------------------\n",
      "Class Distribution: 0    6661\n",
      "1    4325\n",
      "Name: Successful, dtype: int64\n",
      "Percentage of Ones: 0.3936828691061351\n",
      "Percentage of Zeros: 0.6063171308938649\n",
      "Null Accuracy: 0.6063171308938649\n",
      "------------\n",
      "Improvement in accuracy compared to Naive Model 0.08783906790460594\n"
     ]
    }
   ],
   "source": [
    "from sklearn import metrics\n",
    "from sklearn.linear_model import LogisticRegression\n",
    "from sklearn.cross_validation import train_test_split\n",
    "\n",
    "# Create Training and Test Dataset with 75% Training and 25% Test\n",
    "X_train, X_test, y_train, y_test = train_test_split(X_train1, y, test_size=0.25)\n",
    "\n",
    "# Run Logistic Regression\n",
    "logreg = LogisticRegression()\n",
    "logreg.fit(X_train, y_train)\n",
    "y_pred = logreg.predict(X_test)\n",
    "\n",
    "# Analyze results\n",
    "print(\"Results:\")\n",
    "print(\"Accuracy\", metrics.accuracy_score(y_test,y_pred))\n",
    "\n",
    "# save confusion matrix and slice into four pieces\n",
    "confusion = metrics.confusion_matrix(y_test, y_pred)\n",
    "TP = confusion[1, 1]\n",
    "TN = confusion[0, 0]\n",
    "FP = confusion[0, 1]\n",
    "FN = confusion[1, 0]\n",
    "\n",
    "#Specificity: When the actual value is negative, how often is the prediction correct?\n",
    "print(\"Specificity:\",TN / float(TN + FP))\n",
    "\n",
    "#False Positive Rate: When the actual value is negative, how often is the prediction incorrect?\n",
    "print(\"False Positive Rate:\",FP / float(TN + FP))\n",
    "\n",
    "#Precision: When a positive value is predicted, how often is the prediction correct?\n",
    "print(\"Precision:\",metrics.precision_score(y_test, y_pred))\n",
    "\n",
    "#Sensitivity:\n",
    "print(\"Recall:\",metrics.recall_score(y_test, y_pred))\n",
    "\n",
    "print(\"-----------------------------------------------------------------------\")\n",
    "# examine the class distribution of the testing set (using a Pandas Series method)\n",
    "print(\"Class Distribution:\", y_test.value_counts())\n",
    "# calculate the percentage of ones\n",
    "print(\"Percentage of Ones:\", y_test.mean())\n",
    "\n",
    "# calculate the percentage of zeros\n",
    "print(\"Percentage of Zeros:\", 1 - y_test.mean())\n",
    "\n",
    "# calculate null accuracy (for binary classification problems coded as 0/1)\n",
    "print(\"Null Accuracy:\",max(y_test.mean(), 1 - y_test.mean()))\n",
    "\n",
    "print('------------')\n",
    "print(\"Improvement in accuracy compared to Naive Model\", metrics.accuracy_score(y_test,y_pred) - max(y_test.mean(), 1 - y_test.mean()))\n"
   ]
  },
  {
   "cell_type": "markdown",
   "metadata": {},
   "source": [
    "## Decision Tree Classifier"
   ]
  },
  {
   "cell_type": "code",
   "execution_count": 26,
   "metadata": {},
   "outputs": [
    {
     "name": "stdout",
     "output_type": "stream",
     "text": [
      "Accuracy on the training subset: 0.699\n",
      "Accuracy on the test subset: 0.686\n",
      "Specificity: 0.7580476119179518\n",
      "False Positive Rate: 0.24195238808204822\n",
      "Precision: 0.6047933480068476\n",
      "Recall: 0.574181564894358\n",
      "--------------------------------------------------------------\n",
      "Class Distribution: 0    6679\n",
      "1    4307\n",
      "Name: Successful, dtype: int64\n",
      "Percentage of Ones: 0.3920444201711269\n",
      "Percentage of Zeros: 0.6079555798288732\n",
      "Null Accuracy: 0.6079555798288732\n",
      "--------------\n",
      "Improvement in accuracy compared to Naive Model 0.07800837429455665\n"
     ]
    }
   ],
   "source": [
    "from sklearn.tree import DecisionTreeClassifier\n",
    "from sklearn.cross_validation import train_test_split\n",
    "\n",
    "X_train2, X_test2, y_train2, y_test2 = train_test_split(X_train1, y, test_size=0.25, random_state = 42)\n",
    "\n",
    "tree = DecisionTreeClassifier(max_depth=8, random_state=0)\n",
    "tree.fit(X_train2, y_train2)\n",
    "y_pred2 = tree.predict(X_test2)\n",
    "print('Accuracy on the training subset: {:.3f}'.format(tree.score(X_train2, y_train2)))\n",
    "print('Accuracy on the test subset: {:.3f}'.format(tree.score(X_test2, y_test2)))\n",
    "\n",
    "\n",
    "# save confusion matrix and slice into four pieces\n",
    "confusion = metrics.confusion_matrix(y_test2, y_pred2)\n",
    "TP = confusion[1, 1]\n",
    "TN = confusion[0, 0]\n",
    "FP = confusion[0, 1]\n",
    "FN = confusion[1, 0]\n",
    "\n",
    "#Specificity: When the actual value is negative, how often is the prediction correct?\n",
    "print(\"Specificity:\",TN / float(TN + FP))\n",
    "\n",
    "#False Positive Rate: When the actual value is negative, how often is the prediction incorrect?\n",
    "print(\"False Positive Rate:\",FP / float(TN + FP))\n",
    "\n",
    "#Precision: When a positive value is predicted, how often is the prediction correct?\n",
    "print(\"Precision:\",metrics.precision_score(y_test2, y_pred2))\n",
    "\n",
    "#Sensitivity:\n",
    "print(\"Recall:\",metrics.recall_score(y_test2, y_pred2))\n",
    "\n",
    "print(\"--------------------------------------------------------------\")\n",
    "# examine the class distribution of the testing set (using a Pandas Series method)\n",
    "print(\"Class Distribution:\", y_test2.value_counts())\n",
    "# calculate the percentage of ones\n",
    "print(\"Percentage of Ones:\", y_test2.mean())\n",
    "\n",
    "# calculate the percentage of zeros\n",
    "print(\"Percentage of Zeros:\", 1 - y_test2.mean())\n",
    "\n",
    "# calculate null accuracy (for binary classification problems coded as 0/1)\n",
    "print(\"Null Accuracy:\",max(y_test2.mean(), 1 - y_test2.mean()))\n",
    "\n",
    "print(\"--------------\")\n",
    "print(\"Improvement in accuracy compared to Naive Model\", metrics.accuracy_score(y_test2,y_pred2) - max(y_test2.mean(), 1 - y_test2.mean()))\n"
   ]
  },
  {
   "cell_type": "markdown",
   "metadata": {},
   "source": [
    "## Most important features according to Logistic Regression"
   ]
  },
  {
   "cell_type": "markdown",
   "metadata": {},
   "source": [
    "Both models perform about the same in terms of accuracy (~ 70 %), which is ~8 % then a naive model. The decision tree however outperforms the logistic regression 57% compared to 49 % in terms of recall. To choose a model, we need to evaluate which metric has the biggest payoff.\n",
    "\n",
    "__True Positives__: Model predicts host will be successful, and they are (This is good)\n",
    "<br>__False Positives__: Model predicts host will be successful, but they aren't (We don't do anything to help the hosts, and they don't make money)\n",
    "<br>__True Negatives__: Model predicts host will not be successful, and they aren't (This is good, so we can recommend to them how they can improve)\n",
    "<br>__False Negatives__: Model predicts host will not be successful, but they would have been (We recommend changes to host, but it was not necessary. Host's waste money) \n",
    "\n",
    "__Most Important Metric__: Specificity/ Recall\n",
    "Optimizing for specificity because false negatives ( we reach out to host but we didn’t have to) is more acceptable than false positive (us not reaching out to hose and host failing)\n",
    "When host doesn't make money, AirBnb doesn't make money, and no one is happy.\n",
    "Based on that, Decision Tree performs better even though it's accuracy is marginally worse.\n"
   ]
  },
  {
   "cell_type": "markdown",
   "metadata": {},
   "source": [
    "## Most important features according to the Decision Tree"
   ]
  },
  {
   "cell_type": "code",
   "execution_count": 27,
   "metadata": {
    "scrolled": true
   },
   "outputs": [
    {
     "data": {
      "text/html": [
       "<div>\n",
       "<style>\n",
       "    .dataframe thead tr:only-child th {\n",
       "        text-align: right;\n",
       "    }\n",
       "\n",
       "    .dataframe thead th {\n",
       "        text-align: left;\n",
       "    }\n",
       "\n",
       "    .dataframe tbody tr th {\n",
       "        vertical-align: top;\n",
       "    }\n",
       "</style>\n",
       "<table border=\"1\" class=\"dataframe\">\n",
       "  <thead>\n",
       "    <tr style=\"text-align: right;\">\n",
       "      <th></th>\n",
       "      <th>features</th>\n",
       "      <th>FeatureImportances</th>\n",
       "    </tr>\n",
       "  </thead>\n",
       "  <tbody>\n",
       "    <tr>\n",
       "      <th>10</th>\n",
       "      <td>Family kid friendly</td>\n",
       "      <td>0.277276</td>\n",
       "    </tr>\n",
       "    <tr>\n",
       "      <th>17</th>\n",
       "      <td>Lock on bedroom door</td>\n",
       "      <td>0.135941</td>\n",
       "    </tr>\n",
       "    <tr>\n",
       "      <th>2</th>\n",
       "      <td>Air conditioning</td>\n",
       "      <td>0.106823</td>\n",
       "    </tr>\n",
       "    <tr>\n",
       "      <th>40</th>\n",
       "      <td>is_business_travel_ready_t</td>\n",
       "      <td>0.081821</td>\n",
       "    </tr>\n",
       "    <tr>\n",
       "      <th>5</th>\n",
       "      <td>Free parking on premises</td>\n",
       "      <td>0.064170</td>\n",
       "    </tr>\n",
       "    <tr>\n",
       "      <th>23</th>\n",
       "      <td>reviews_per_month</td>\n",
       "      <td>0.056901</td>\n",
       "    </tr>\n",
       "    <tr>\n",
       "      <th>16</th>\n",
       "      <td>Cable TV</td>\n",
       "      <td>0.053449</td>\n",
       "    </tr>\n",
       "    <tr>\n",
       "      <th>39</th>\n",
       "      <td>is_business_travel_ready_f</td>\n",
       "      <td>0.045138</td>\n",
       "    </tr>\n",
       "    <tr>\n",
       "      <th>0</th>\n",
       "      <td>number_of_reviews</td>\n",
       "      <td>0.029236</td>\n",
       "    </tr>\n",
       "    <tr>\n",
       "      <th>12</th>\n",
       "      <td>Washer</td>\n",
       "      <td>0.021744</td>\n",
       "    </tr>\n",
       "    <tr>\n",
       "      <th>22</th>\n",
       "      <td>review_scores_rating</td>\n",
       "      <td>0.018431</td>\n",
       "    </tr>\n",
       "    <tr>\n",
       "      <th>4</th>\n",
       "      <td>Kitchen</td>\n",
       "      <td>0.015482</td>\n",
       "    </tr>\n",
       "    <tr>\n",
       "      <th>21</th>\n",
       "      <td>number_of_reviews</td>\n",
       "      <td>0.015368</td>\n",
       "    </tr>\n",
       "    <tr>\n",
       "      <th>15</th>\n",
       "      <td>Shampoo</td>\n",
       "      <td>0.012173</td>\n",
       "    </tr>\n",
       "    <tr>\n",
       "      <th>6</th>\n",
       "      <td>Gym</td>\n",
       "      <td>0.011513</td>\n",
       "    </tr>\n",
       "    <tr>\n",
       "      <th>13</th>\n",
       "      <td>Dryer</td>\n",
       "      <td>0.008880</td>\n",
       "    </tr>\n",
       "    <tr>\n",
       "      <th>30</th>\n",
       "      <td>bed_type_Real Bed</td>\n",
       "      <td>0.008030</td>\n",
       "    </tr>\n",
       "    <tr>\n",
       "      <th>20</th>\n",
       "      <td>Hair dryer</td>\n",
       "      <td>0.007005</td>\n",
       "    </tr>\n",
       "    <tr>\n",
       "      <th>36</th>\n",
       "      <td>cancellation_policy_strict</td>\n",
       "      <td>0.006172</td>\n",
       "    </tr>\n",
       "    <tr>\n",
       "      <th>18</th>\n",
       "      <td>24 hour check in</td>\n",
       "      <td>0.004326</td>\n",
       "    </tr>\n",
       "    <tr>\n",
       "      <th>9</th>\n",
       "      <td>Heating</td>\n",
       "      <td>0.002394</td>\n",
       "    </tr>\n",
       "    <tr>\n",
       "      <th>25</th>\n",
       "      <td>is_location_exact_t</td>\n",
       "      <td>0.002352</td>\n",
       "    </tr>\n",
       "    <tr>\n",
       "      <th>35</th>\n",
       "      <td>cancellation_policy_moderate</td>\n",
       "      <td>0.001997</td>\n",
       "    </tr>\n",
       "    <tr>\n",
       "      <th>11</th>\n",
       "      <td>Suitable for events</td>\n",
       "      <td>0.001842</td>\n",
       "    </tr>\n",
       "    <tr>\n",
       "      <th>37</th>\n",
       "      <td>cancellation_policy_super_strict_30</td>\n",
       "      <td>0.001740</td>\n",
       "    </tr>\n",
       "    <tr>\n",
       "      <th>14</th>\n",
       "      <td>Essentials</td>\n",
       "      <td>0.001702</td>\n",
       "    </tr>\n",
       "    <tr>\n",
       "      <th>8</th>\n",
       "      <td>Indoor fireplace</td>\n",
       "      <td>0.001523</td>\n",
       "    </tr>\n",
       "    <tr>\n",
       "      <th>24</th>\n",
       "      <td>is_location_exact_f</td>\n",
       "      <td>0.001483</td>\n",
       "    </tr>\n",
       "    <tr>\n",
       "      <th>19</th>\n",
       "      <td>Laptop friendly workspace</td>\n",
       "      <td>0.001317</td>\n",
       "    </tr>\n",
       "    <tr>\n",
       "      <th>31</th>\n",
       "      <td>instant_bookable_f</td>\n",
       "      <td>0.000943</td>\n",
       "    </tr>\n",
       "    <tr>\n",
       "      <th>1</th>\n",
       "      <td>Wireless Internet</td>\n",
       "      <td>0.000936</td>\n",
       "    </tr>\n",
       "    <tr>\n",
       "      <th>32</th>\n",
       "      <td>instant_bookable_t</td>\n",
       "      <td>0.000867</td>\n",
       "    </tr>\n",
       "    <tr>\n",
       "      <th>27</th>\n",
       "      <td>bed_type_Couch</td>\n",
       "      <td>0.000628</td>\n",
       "    </tr>\n",
       "    <tr>\n",
       "      <th>33</th>\n",
       "      <td>cancellation_policy_flexible</td>\n",
       "      <td>0.000399</td>\n",
       "    </tr>\n",
       "    <tr>\n",
       "      <th>29</th>\n",
       "      <td>bed_type_Pull-out Sofa</td>\n",
       "      <td>0.000000</td>\n",
       "    </tr>\n",
       "    <tr>\n",
       "      <th>28</th>\n",
       "      <td>bed_type_Futon</td>\n",
       "      <td>0.000000</td>\n",
       "    </tr>\n",
       "    <tr>\n",
       "      <th>34</th>\n",
       "      <td>cancellation_policy_long_term</td>\n",
       "      <td>0.000000</td>\n",
       "    </tr>\n",
       "    <tr>\n",
       "      <th>26</th>\n",
       "      <td>bed_type_Airbed</td>\n",
       "      <td>0.000000</td>\n",
       "    </tr>\n",
       "    <tr>\n",
       "      <th>7</th>\n",
       "      <td>Hot tub</td>\n",
       "      <td>0.000000</td>\n",
       "    </tr>\n",
       "    <tr>\n",
       "      <th>38</th>\n",
       "      <td>cancellation_policy_super_strict_60</td>\n",
       "      <td>0.000000</td>\n",
       "    </tr>\n",
       "    <tr>\n",
       "      <th>3</th>\n",
       "      <td>Pool</td>\n",
       "      <td>0.000000</td>\n",
       "    </tr>\n",
       "  </tbody>\n",
       "</table>\n",
       "</div>"
      ],
      "text/plain": [
       "                               features  FeatureImportances\n",
       "10                  Family kid friendly            0.277276\n",
       "17                 Lock on bedroom door            0.135941\n",
       "2                      Air conditioning            0.106823\n",
       "40           is_business_travel_ready_t            0.081821\n",
       "5              Free parking on premises            0.064170\n",
       "23                    reviews_per_month            0.056901\n",
       "16                             Cable TV            0.053449\n",
       "39           is_business_travel_ready_f            0.045138\n",
       "0                     number_of_reviews            0.029236\n",
       "12                               Washer            0.021744\n",
       "22                 review_scores_rating            0.018431\n",
       "4                               Kitchen            0.015482\n",
       "21                    number_of_reviews            0.015368\n",
       "15                              Shampoo            0.012173\n",
       "6                                   Gym            0.011513\n",
       "13                                Dryer            0.008880\n",
       "30                    bed_type_Real Bed            0.008030\n",
       "20                           Hair dryer            0.007005\n",
       "36           cancellation_policy_strict            0.006172\n",
       "18                     24 hour check in            0.004326\n",
       "9                               Heating            0.002394\n",
       "25                  is_location_exact_t            0.002352\n",
       "35         cancellation_policy_moderate            0.001997\n",
       "11                  Suitable for events            0.001842\n",
       "37  cancellation_policy_super_strict_30            0.001740\n",
       "14                           Essentials            0.001702\n",
       "8                      Indoor fireplace            0.001523\n",
       "24                  is_location_exact_f            0.001483\n",
       "19            Laptop friendly workspace            0.001317\n",
       "31                   instant_bookable_f            0.000943\n",
       "1                     Wireless Internet            0.000936\n",
       "32                   instant_bookable_t            0.000867\n",
       "27                       bed_type_Couch            0.000628\n",
       "33         cancellation_policy_flexible            0.000399\n",
       "29               bed_type_Pull-out Sofa            0.000000\n",
       "28                       bed_type_Futon            0.000000\n",
       "34        cancellation_policy_long_term            0.000000\n",
       "26                      bed_type_Airbed            0.000000\n",
       "7                               Hot tub            0.000000\n",
       "38  cancellation_policy_super_strict_60            0.000000\n",
       "3                                  Pool            0.000000"
      ]
     },
     "execution_count": 27,
     "metadata": {},
     "output_type": "execute_result"
    }
   ],
   "source": [
    "a = zip(X_train1,tree.feature_importances_)\n",
    "Important_Features = pd.DataFrame(list(a), columns = ['features','FeatureImportances'])\n",
    "Important_Features.sort_values(by=['FeatureImportances'],ascending = False)"
   ]
  },
  {
   "cell_type": "markdown",
   "metadata": {},
   "source": [
    "## Analyzing Most Important Features"
   ]
  },
  {
   "cell_type": "code",
   "execution_count": 28,
   "metadata": {},
   "outputs": [
    {
     "name": "stdout",
     "output_type": "stream",
     "text": [
      "Family kid friendly\n",
      "False    2679.28419\n",
      "True     3896.30092\n",
      "Name: RevPAR, dtype: float64\n",
      "Family kid friendly\n",
      "False    0.295522\n",
      "True     0.522175\n",
      "Name: Successful, dtype: float64\n"
     ]
    }
   ],
   "source": [
    "Avg_rev_ff = df.groupby('Family kid friendly')['RevPAR'].mean()\n",
    "Suc_ff = df.groupby('Family kid friendly')['Successful'].mean()\n",
    "\n",
    "print(Avg_rev_ff)\n",
    "print(Suc_ff)"
   ]
  },
  {
   "cell_type": "markdown",
   "metadata": {},
   "source": [
    "Rooms that are family kid friendly were successful 52 % of the time with an average monthly revenue of 3900 dollars, while those who were not family kid friendly were successful only 30% of the timw with an average monthly revenue of 2700 dollars."
   ]
  },
  {
   "cell_type": "code",
   "execution_count": 29,
   "metadata": {},
   "outputs": [
    {
     "name": "stdout",
     "output_type": "stream",
     "text": [
      "Lock on bedroom door\n",
      "False    3398.832493\n",
      "True     2560.614101\n",
      "Name: RevPAR, dtype: float64\n",
      "Lock on bedroom door\n",
      "False    0.438621\n",
      "True     0.246854\n",
      "Name: Successful, dtype: float64\n"
     ]
    }
   ],
   "source": [
    "Avg_rev_Lock = df.groupby('Lock on bedroom door')['RevPAR'].mean()\n",
    "Suc_Lock = df.groupby('Lock on bedroom door')['Successful'].mean()\n",
    "\n",
    "print(Avg_rev_Lock)\n",
    "print(Suc_Lock)"
   ]
  },
  {
   "cell_type": "markdown",
   "metadata": {},
   "source": [
    "Rooms that had a lock on the bedroom door were successful only 25 % of the time with an average monthly revenue of 2560 dollars, while those who did not have a lock on the bedroom door were successful 44% of the timw with an average monthly revenue of 3400 dollars.\n",
    "\n",
    "This seemed surprising at first, but after thinking about it, my best guess is that these were private rooms. A host on AirBnb can rent entire home or private room. If a host is renting out entire home, then they don't need the bedroom door to lock, whereas if they were next door, guests would want their room to lock. These numbers would then make sense because if you are renting your entire home, you are bound to make more money all else equal.\n",
    "\n",
    "For the next version, I will compare how amenities compare for private room vs entire home to test my hypothesis."
   ]
  },
  {
   "cell_type": "code",
   "execution_count": 30,
   "metadata": {},
   "outputs": [
    {
     "name": "stdout",
     "output_type": "stream",
     "text": [
      "Air conditioning\n",
      "False    2222.236838\n",
      "True     3371.365932\n",
      "Name: RevPAR, dtype: float64\n",
      "Air conditioning\n",
      "False    0.198933\n",
      "True     0.426632\n",
      "Name: Successful, dtype: float64\n"
     ]
    }
   ],
   "source": [
    "Avg_rev_AC = df.groupby('Air conditioning')['RevPAR'].mean()\n",
    "Suc_AC = df.groupby('Air conditioning')['Successful'].mean()\n",
    "\n",
    "print(Avg_rev_AC)\n",
    "print(Suc_AC)"
   ]
  },
  {
   "cell_type": "markdown",
   "metadata": {},
   "source": [
    "Rooms that provid air conditioning were successful 43 % of the time with an average monthly revenue of 3371 dollars, while those who did not provide air conditioning were successful only 20% of the timw with an average monthly revenue of 2222 dollars. \n"
   ]
  },
  {
   "cell_type": "code",
   "execution_count": 31,
   "metadata": {},
   "outputs": [
    {
     "name": "stdout",
     "output_type": "stream",
     "text": [
      "is_business_travel_ready\n",
      "f    3049.827992\n",
      "t    5009.741180\n",
      "Name: RevPAR, dtype: float64\n",
      "is_business_travel_ready\n",
      "f    0.363839\n",
      "t    0.738872\n",
      "Name: Successful, dtype: float64\n"
     ]
    }
   ],
   "source": [
    "Avg_rev_BT = df.groupby('is_business_travel_ready')['RevPAR'].mean()\n",
    "Suc_BT = df.groupby('is_business_travel_ready')['Successful'].mean()\n",
    "\n",
    "print(Avg_rev_BT)\n",
    "print(Suc_BT)"
   ]
  },
  {
   "cell_type": "markdown",
   "metadata": {},
   "source": [
    "Rooms that are business travel ready were successful 74 % of the time with an average monthly revenue of 5009 dollars, while those who did are not business travel ready  were successful only 36% of the timw with an average monthly revenue of 3049 dollars.\n",
    "\n"
   ]
  },
  {
   "cell_type": "markdown",
   "metadata": {},
   "source": [
    "## Recommendations"
   ]
  },
  {
   "cell_type": "markdown",
   "metadata": {},
   "source": [
    "While it is hard to have your home be family kid friendly and business travel ready, NYC is a big city so both types of hosts can succeed. However, if I had to pick one, I would make it business travel ready as these rooms brought in an average of 5009  dollars a month. Whatever type of home you choose, make sure it has air conditioning, free parking on premises (big deal in NYC) and has cable TV. "
   ]
  }
 ],
 "metadata": {
  "kernelspec": {
   "display_name": "Python 3",
   "language": "python",
   "name": "python3"
  },
  "language_info": {
   "codemirror_mode": {
    "name": "ipython",
    "version": 3
   },
   "file_extension": ".py",
   "mimetype": "text/x-python",
   "name": "python",
   "nbconvert_exporter": "python",
   "pygments_lexer": "ipython3",
   "version": "3.6.1"
  }
 },
 "nbformat": 4,
 "nbformat_minor": 2
}
